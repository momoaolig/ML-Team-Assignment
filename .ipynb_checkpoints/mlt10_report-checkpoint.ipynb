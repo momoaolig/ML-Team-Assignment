{
 "cells": [
  {
   "cell_type": "markdown",
   "metadata": {},
   "source": [
    "# Random Forest Classification of Depression and Gender by Vocal Characteristics\n",
    "In this project, we will train a Random Forest Classifier to determine whether a participant has depression based on speech data from a clinical interview. The dataset contains 107 participants, 63 of which are male and 44 of which are female. Of these participants, 30 have depression (17 female, 14 male). By varying the weights and features included in the model training, we will demonstrate how differing analysis techniques can have significant impact on the model's classification performance. "
   ]
  },
  {
   "cell_type": "code",
   "execution_count": 1,
   "metadata": {
    "ExecuteTime": {
     "end_time": "2024-05-04T18:47:40.349694600Z",
     "start_time": "2024-05-04T18:47:38.052584800Z"
    }
   },
   "outputs": [],
   "source": [
    "# **** MATH OPERATIONS ****\n",
    "import numpy as np\n",
    "import os\n",
    "\n",
    "# **** DATA MANIPULATION ****\n",
    "import pandas as pd\n",
    "from sklearn.metrics import accuracy_score, balanced_accuracy_score, confusion_matrix\n",
    "from sklearn.ensemble import RandomForestClassifier\n",
    "from sklearn.model_selection import train_test_split\n",
    "from matplotlib import pyplot as plt\n",
    "from sklearn.preprocessing import StandardScaler\n",
    "from sklearn.model_selection import GridSearchCV\n",
    "from scipy.stats import pearsonr\n",
    "from scipy import stats\n"
   ]
  },
  {
   "cell_type": "code",
   "execution_count": 94,
   "metadata": {
    "ExecuteTime": {
     "end_time": "2024-05-04T18:47:40.378049Z",
     "start_time": "2024-05-04T18:47:40.356758600Z"
    }
   },
   "outputs": [],
   "source": [
    "# general functions\n",
    "color_dict = {\n",
    "    'all features': 'mediumpurple',\n",
    "    'top performing features (depression)': 'darkviolet',\n",
    "    'top performing features (gender)': 'plum',\n",
    "    'SBR features': 'indigo',\n",
    "    'AER features' : 'purple'\n",
    "}\n",
    "def load_features(path, labels_df):\n",
    "    dataframes = []\n",
    "    \n",
    "    for file in os.listdir(path):\n",
    "        if file.split('.')[1] != 'csv':\n",
    "            continue\n",
    "        df = pd.read_csv(os.path.join(path, file), header=None)\n",
    "        participant_id = int(file.split(\"_\")[1].split(\".\")[0]) # Get ID from file name\n",
    "        df[\"Participant_ID\"] = participant_id\n",
    "        dataframes.append(df)\n",
    "        \n",
    "    # Combine into a single dataframe\n",
    "    data_df = pd.concat(dataframes)\n",
    "    return data_df.merge(labels_df, on=\"Participant_ID\")\n",
    "\n",
    "def pre_process(train_df, test_df):\n",
    "    train_df.fillna(train_df.mean(), inplace=True)\n",
    "    test_df.fillna(test_df.mean(), inplace=True)\n",
    "\n",
    "    # Exclude the last 3 columns from normalization\n",
    "    columns_to_normalize = train_df.columns[:-3]\n",
    "\n",
    "    # Normalize the selected columns using Min-Max scaling\n",
    "    scaler = StandardScaler()\n",
    "    train_df_normalized = train_df.copy()\n",
    "    train_df_normalized[columns_to_normalize] = scaler.fit_transform(train_df[columns_to_normalize])\n",
    "\n",
    "    # Remove outliers based on everything except the last 3 columns\n",
    "    all_columns_except_last_3 = train_df.columns[:-3]\n",
    "    z_scores = np.abs(stats.zscore(train_df_normalized[all_columns_except_last_3]))\n",
    "    threshold = 1.5\n",
    "    outlier_indices = np.where((z_scores < threshold).all(axis=1))[0]\n",
    "\n",
    "    # Remove corresponding rows (including last 3 columns) when removing outliers\n",
    "    train_df_no_outliers = train_df_normalized.drop(outlier_indices)\n",
    "    test_df_normalized = test_df.copy()\n",
    "    test_df_normalized[columns_to_normalize] = scaler.fit_transform(test_df[columns_to_normalize])\n",
    "    return train_df_no_outliers, test_df_normalized\n",
    "\n",
    "def analyze_results(test_df, display_results=True,  pred_label='Depression', threshold = 0.05):\n",
    "    # Group by participant and average predictions \n",
    "    participant_predictions = test_df.groupby(\"Participant_ID\")['prediction'].mean()\n",
    "\n",
    "    participant_predictions_binarized = (participant_predictions >= threshold).astype(int)\n",
    "\n",
    "    # Join aggregated predictions back with the depression labels\n",
    "    participant_labels = test_df.groupby(\"Participant_ID\")[pred_label].first()\n",
    "\n",
    "    # Filter data by gender\n",
    "    male_participants = test_df[test_df[\"Gender\"] == 1][\"Participant_ID\"].unique()\n",
    "    female_participants = test_df[test_df[\"Gender\"] == 0][\"Participant_ID\"].unique()\n",
    "\n",
    "    # Calculate accuracies for all, male, and female participants\n",
    "    all_metrics_depression = calculate_accuracy(participant_labels, \n",
    "                                                participant_predictions_binarized, \"All participants\",\n",
    "                                                display_results=display_results)\n",
    "\n",
    "    if pred_label == 'Depression':\n",
    "        if display_results:\n",
    "            print(\"\")\n",
    "        male_metrics = calculate_accuracy(participant_labels.loc[male_participants],\n",
    "                                       participant_predictions_binarized.loc[male_participants], \"Male participants\",\n",
    "                                       display_results=display_results)\n",
    "        if display_results:\n",
    "            print(\"\")\n",
    "        female_metrics = calculate_accuracy(participant_labels.loc[female_participants], \n",
    "                                        participant_predictions_binarized.loc[female_participants],\n",
    "                                          \"Female participants\", display_results=display_results)\n",
    "\n",
    "        # Calculate EO\n",
    "        eo = (1 - abs(male_metrics[\"tpr\"] - female_metrics[\"tpr\"]))\n",
    "        if display_results:\n",
    "            print(f\"Equality of Opportunity (EO): {eo:.2f}\")\n",
    "\n",
    "        return all_metrics_depression, male_metrics, female_metrics, eo\n",
    "    return all_metrics_depression\n",
    "\n",
    "def calculate_accuracy(y_true, y_pred, group, display_results=True):\n",
    "    # Calculate Accuracy\n",
    "    accuracy = accuracy_score(y_true, y_pred)\n",
    "    \n",
    "    # Calculate Balanced Accuracy\n",
    "    balanced_accuracy = balanced_accuracy_score(y_true, y_pred)\n",
    "    \n",
    "    # Extract TP, FP, TN, FN\n",
    "    tn, fp, fn, tp = confusion_matrix(y_true, y_pred).ravel()\n",
    "    \n",
    "    tpr = tp / (tp + fn) # True Positive Rate\n",
    "    tnr = tn / (tn + fp) # True Negative Rate\n",
    "    fpr = fp / (fp + tn) # False Positive Rate\n",
    "    fnr = fn / (fn + tp) # False Negative Rate\n",
    "    \n",
    "    # Store metrics\n",
    "    metrics = {\n",
    "        \"accuracy\": accuracy,\n",
    "        \"balanced_accuracy\": balanced_accuracy,\n",
    "        \"tpr\": tpr,\n",
    "        \"tnr\": tnr,\n",
    "        \"fpr\": fpr,\n",
    "        \"fnr\": fnr\n",
    "    }\n",
    "    if display_results:\n",
    "        print(f\"Metrics for {group}:\")\n",
    "        print(f\"Accuracy: {accuracy:.2f}\")\n",
    "        print(f\"Balanced Accuracy: {balanced_accuracy:.2f}\")\n",
    "        print(f\"True Positive Rate (TPR): {tpr:.2f}\")\n",
    "        print(f\"True Negative Rate (TNR): {tnr:.2f}\")\n",
    "        print(f\"False Positive Rate (FPR): {fpr:.2f}\")\n",
    "        print(f\"False Negative Rate (FNR): {fnr:.2f}\")\n",
    "    \n",
    "    return metrics\n",
    "\n",
    "\n",
    "def train_random_forest(X, y, group='All'):\n",
    "    l = len(X)\n",
    "    X_train = X[:int(0.7*l)]\n",
    "    y_train = y[:int(0.7*l)]\n",
    "    X_val = X[int(-0.3*l):]\n",
    "    y_val = y[int(-0.3*l):]\n",
    "    n_estimators = [10, 50, 100, 200]\n",
    "    max_depth = [None, 10, 20, 50]\n",
    "    best_acc = 0\n",
    "    best_model = None\n",
    "    best_param = None\n",
    "\n",
    "    for n in n_estimators:\n",
    "        for d in max_depth:\n",
    "            clf = RandomForestClassifier(random_state = 42, class_weight = 'balanced', n_estimators = n, max_depth = d)\n",
    "            clf.fit(X_train, y_train)\n",
    "            y_pred = clf.predict(X_val)\n",
    "            metric = calculate_accuracy(np.array(y_val), y_pred, group, display_results=False)\n",
    "            if(metric['accuracy'] > best_acc):\n",
    "                best_acc = metric['accuracy']\n",
    "                best_model = clf\n",
    "                best_param = n,d\n",
    "    return best_acc, best_model, best_param\n",
    "\n",
    "def manual_confusion_matrix(y_true, y_pred):\n",
    "    # Initialize counts for true negatives (TN), false positives (FP), \n",
    "    # false negatives (FN), and true positives (TP)\n",
    "    tn = fp = fn = tp = 0\n",
    "    \n",
    "    # Iterate over each pair of true and predicted labels\n",
    "    for true_label, pred_label in zip(y_true, y_pred):\n",
    "        if true_label == 0 and pred_label == 0:\n",
    "            tn += 1\n",
    "        elif true_label == 0 and pred_label == 1:\n",
    "            fp += 1\n",
    "        elif true_label == 1 and pred_label == 0:\n",
    "            fn += 1\n",
    "        elif true_label == 1 and pred_label == 1:\n",
    "            tp += 1\n",
    "    \n",
    "    return tn, fp, fn, tp\n",
    "\n",
    "def bar_graph(vals:dict, measures:list, title:str):\n",
    "    x = np.arange(len(measures))  # the label locations\n",
    "    width = 0.2  # the width of the bars\n",
    "    multiplier = 0\n",
    "\n",
    "    fig, ax = plt.subplots(figsize=(12, 7))\n",
    "    for attribute, measurement in vals.items():\n",
    "        offset = width * multiplier\n",
    "        rects = ax.bar(x + offset, measurement, width, label=attribute, color=color_dict[attribute])\n",
    "        ax.bar_label(rects, padding=5)\n",
    "        multiplier += 1\n",
    "\n",
    "    # Add some text for labels, title and custom x-axis tick labels, etc.\n",
    "    ax.set_ylabel('Accuracy')\n",
    "    ax.set_title(title)\n",
    "    ax.set_xticks(x + width, measures)\n",
    "    ax.legend(loc='upper left', ncols=4)\n",
    "    ax.set_ylim(0, 1)\n",
    "    fig.tight_layout()\n",
    "    plt.show()"
   ]
  },
  {
   "cell_type": "code",
   "execution_count": 3,
   "metadata": {
    "ExecuteTime": {
     "end_time": "2024-05-04T18:47:41.109476700Z",
     "start_time": "2024-05-04T18:47:40.374805500Z"
    }
   },
   "outputs": [],
   "source": [
    "# pull in dataset & labels\n",
    "labels_df = pd.read_csv(\"labels.csv\")\n",
    "train_df = load_features(\"features_train\", labels_df)\n",
    "test_df = load_features(\"features_test\", labels_df)\n",
    "train_df, test_df = pre_process(train_df, test_df)\n",
    "# append feature names\n",
    "features = pd.read_csv('feature_description.csv',\n",
    "                    encoding = 'ISO-8859-1', \n",
    "                    names=['feature', 'description'])['feature'].values.tolist()\n",
    "col_names = {x:features[x] for x in range(88)}\n",
    "train_df.rename(columns=col_names, inplace=True)\n",
    "test_df.rename(columns=col_names, inplace=True)"
   ]
  },
  {
   "cell_type": "markdown",
   "metadata": {},
   "source": [
    "## Problem (1a) Classification of Gender and Depression\n",
    "TODO Fill in"
   ]
  },
  {
   "cell_type": "code",
   "execution_count": 4,
   "metadata": {
    "ExecuteTime": {
     "end_time": "2024-05-04T18:47:41.134645100Z",
     "start_time": "2024-05-04T18:47:41.121770700Z"
    }
   },
   "outputs": [],
   "source": [
    "X_train = train_df.drop([\"Participant_ID\", \"Depression\", \"Gender\"], axis=1)\n",
    "y_train_depression = train_df[\"Depression\"]\n",
    "y_train_gender= train_df[\"Gender\"]\n",
    "\n",
    "\n",
    "# Apply the same transformation to the test data\n",
    "X_test = test_df.drop([\"Participant_ID\", \"Depression\", \"Gender\"], axis=1)\n",
    "y_test_depression = test_df[\"Depression\"]\n",
    "y_test_gender = test_df[\"Gender\"]"
   ]
  },
  {
   "cell_type": "markdown",
   "metadata": {},
   "source": [
    "### Problem (a.i) Depression Classification\n",
    "TODO Fill in\n"
   ]
  },
  {
   "cell_type": "code",
   "execution_count": 141,
   "metadata": {
    "ExecuteTime": {
     "end_time": "2024-05-04T18:53:13.961058700Z",
     "start_time": "2024-05-04T18:47:41.127645900Z"
    }
   },
   "outputs": [
    {
     "name": "stdout",
     "output_type": "stream",
     "text": [
      "Accuracy: 0.78  and best parameters:  (200, None)\n"
     ]
    }
   ],
   "source": [
    "best_acc_depression, best_model_depression, best_param_depression = train_random_forest(X_train, y_train_depression)\n",
    "print('Accuracy:', round(best_acc_depression, 2),' and best parameters: ',best_param_depression)\n",
    "test_df_temp['prediction']= best_model_depression.predict(X_test)"
   ]
  },
  {
   "cell_type": "code",
   "execution_count": 6,
   "metadata": {
    "ExecuteTime": {
     "end_time": "2024-05-04T18:53:14.015651500Z",
     "start_time": "2024-05-04T18:53:13.964060200Z"
    }
   },
   "outputs": [
    {
     "name": "stdout",
     "output_type": "stream",
     "text": [
      "Metrics for All participants:\n",
      "Accuracy: 0.70\n",
      "Balanced Accuracy: 0.55\n",
      "True Positive Rate (TPR): 0.17\n",
      "True Negative Rate (TNR): 0.93\n",
      "False Positive Rate (FPR): 0.07\n",
      "False Negative Rate (FNR): 0.83\n",
      "\n",
      "Metrics for Male participants:\n",
      "Accuracy: 0.83\n",
      "Balanced Accuracy: 0.45\n",
      "True Positive Rate (TPR): 0.00\n",
      "True Negative Rate (TNR): 0.91\n",
      "False Positive Rate (FPR): 0.09\n",
      "False Negative Rate (FNR): 1.00\n",
      "\n",
      "Metrics for Female participants:\n",
      "Accuracy: 0.50\n",
      "Balanced Accuracy: 0.60\n",
      "True Positive Rate (TPR): 0.20\n",
      "True Negative Rate (TNR): 1.00\n",
      "False Positive Rate (FPR): 0.00\n",
      "False Negative Rate (FNR): 0.80\n",
      "Equality of Opportunity (EO): 0.80\n"
     ]
    }
   ],
   "source": [
    "all_metrics_depression, male_metrics_depression, female_metrics_depression, eo = analyze_results(test_df_temp, pred_label='Depression', threshold=.2)"
   ]
  },
  {
   "cell_type": "markdown",
   "metadata": {},
   "source": [
    "### Problem (a.ii) Gender Classification\n",
    "TODO fill in"
   ]
  },
  {
   "cell_type": "code",
   "execution_count": 7,
   "metadata": {
    "ExecuteTime": {
     "end_time": "2024-05-04T18:58:32.666666100Z",
     "start_time": "2024-05-04T18:53:13.990129200Z"
    }
   },
   "outputs": [
    {
     "name": "stdout",
     "output_type": "stream",
     "text": [
      "Accuracy: 0.86  and best parameters:  (50, 20)\n"
     ]
    }
   ],
   "source": [
    "best_acc_gender, best_model_gender, best_param_gender = train_random_forest(X_train, y_train_gender)\n",
    "print('Accuracy:', round(best_acc_gender, 2),' and best parameters: ', best_param_gender)\n",
    "test_df_tmp['prediction'] = best_model_gender.predict(X_test)\n"
   ]
  },
  {
   "cell_type": "code",
   "execution_count": 8,
   "metadata": {
    "ExecuteTime": {
     "end_time": "2024-05-04T18:58:32.718666Z",
     "start_time": "2024-05-04T18:58:32.639746Z"
    }
   },
   "outputs": [
    {
     "name": "stdout",
     "output_type": "stream",
     "text": [
      "Metrics for All participants:\n",
      "Accuracy: 0.85\n",
      "Balanced Accuracy: 0.81\n",
      "True Positive Rate (TPR): 1.00\n",
      "True Negative Rate (TNR): 0.62\n",
      "False Positive Rate (FPR): 0.38\n",
      "False Negative Rate (FNR): 0.00\n"
     ]
    }
   ],
   "source": [
    "x = 10\n",
    "all_metrics_gender = analyze_results(test_df_tmp, pred_label='Gender', threshold=.2)"
   ]
  },
  {
   "cell_type": "markdown",
   "metadata": {},
   "source": [
    "## Problem (1b) Depression Feature Selection\n",
    "In this section, we will repeat the same depression classification as above on only the features with the strongest correlation with depression."
   ]
  },
  {
   "cell_type": "code",
   "execution_count": 9,
   "metadata": {
    "ExecuteTime": {
     "end_time": "2024-05-04T18:58:32.751628700Z",
     "start_time": "2024-05-04T18:58:32.661813300Z"
    }
   },
   "outputs": [
    {
     "name": "stdout",
     "output_type": "stream",
     "text": [
      "Top twenty features correlated with depression: \n",
      "\n",
      "loudness_sma3_pctlrange0-2: 0.199\n",
      "loudness_sma3_percentile80.0: 0.197\n",
      "loudness_sma3_amean: 0.192\n",
      "loudness_sma3_percentile50.0: 0.162\n",
      "spectralFluxV_sma3nz_amean: 0.155\n",
      "spectralFlux_sma3_amean: 0.137\n",
      "loudness_sma3_meanRisingSlope: 0.136\n",
      "loudness_sma3_meanFallingSlope: 0.124\n",
      "HNRdBACF_sma3nz_amean: 0.116\n",
      "F0semitoneFrom27.5Hz_sma3nz_percentile50.0: 0.115\n",
      "loudness_sma3_stddevRisingSlope: 0.114\n",
      "equivalentSoundLevel_dBp: 0.114\n",
      "F0semitoneFrom27.5Hz_sma3nz_percentile20.0: 0.112\n",
      "F0semitoneFrom27.5Hz_sma3nz_amean: 0.111\n",
      "loudness_sma3_stddevFallingSlope: 0.109\n",
      "F0semitoneFrom27.5Hz_sma3nz_percentile80.0: 0.109\n",
      "loudness_sma3_percentile20.0: 0.099\n",
      "spectralFluxV_sma3nz_stddevNorm: 0.097\n",
      "Gender: -0.097\n",
      "F1frequency_sma3nz_amean: 0.081\n"
     ]
    }
   ],
   "source": [
    "# perform depression classification on the data\n",
    "correlation_tups = []\n",
    "for col in train_df.columns:\n",
    "    if col in ['Participant_ID', 'Depression']:\n",
    "        continue\n",
    "    correlation_tups.append((col, train_df[col].corr(train_df['Depression'])))\n",
    "correlation_tups = sorted(correlation_tups, key=lambda x: abs(x[1]), reverse=True)\n",
    "top_twenty_feats = {correlation_tups[x][0]:round(correlation_tups[x][1], 3)  for x in range(20)}\n",
    "print('Top twenty features correlated with depression: \\n')\n",
    "for key, val in top_twenty_feats.items():\n",
    "    print(f'{key}: {val}')"
   ]
  },
  {
   "cell_type": "markdown",
   "metadata": {},
   "source": [
    "The participants with depression more frequently spoke loudly (loudness_sma3) and with more fluctuations (spectralFlux). There is also slight correlation between the vocal range (semitone) and the speaker's depression. Since the majority of participants with depression were female, there is a correlation between gender and depression, as well.\n",
    "\n",
    "We will now train a Random Forest Classifier to predict depression using only the features most strongly correlated with depression. "
   ]
  },
  {
   "cell_type": "code",
   "execution_count": 10,
   "metadata": {
    "ExecuteTime": {
     "end_time": "2024-05-04T18:58:32.783602500Z",
     "start_time": "2024-05-04T18:58:32.744114500Z"
    }
   },
   "outputs": [
    {
     "data": {
      "text/html": [
       "<div>\n",
       "<style scoped>\n",
       "    .dataframe tbody tr th:only-of-type {\n",
       "        vertical-align: middle;\n",
       "    }\n",
       "\n",
       "    .dataframe tbody tr th {\n",
       "        vertical-align: top;\n",
       "    }\n",
       "\n",
       "    .dataframe thead th {\n",
       "        text-align: right;\n",
       "    }\n",
       "</style>\n",
       "<table border=\"1\" class=\"dataframe\">\n",
       "  <thead>\n",
       "    <tr style=\"text-align: right;\">\n",
       "      <th></th>\n",
       "      <th>loudness_sma3_pctlrange0-2</th>\n",
       "      <th>loudness_sma3_percentile80.0</th>\n",
       "      <th>loudness_sma3_amean</th>\n",
       "      <th>loudness_sma3_percentile50.0</th>\n",
       "      <th>spectralFluxV_sma3nz_amean</th>\n",
       "    </tr>\n",
       "  </thead>\n",
       "  <tbody>\n",
       "    <tr>\n",
       "      <th>0</th>\n",
       "      <td>2.289903</td>\n",
       "      <td>2.337257</td>\n",
       "      <td>1.856163</td>\n",
       "      <td>0.733909</td>\n",
       "      <td>2.760294</td>\n",
       "    </tr>\n",
       "    <tr>\n",
       "      <th>1</th>\n",
       "      <td>2.076183</td>\n",
       "      <td>2.983934</td>\n",
       "      <td>3.521441</td>\n",
       "      <td>3.653629</td>\n",
       "      <td>3.364344</td>\n",
       "    </tr>\n",
       "    <tr>\n",
       "      <th>2</th>\n",
       "      <td>2.111819</td>\n",
       "      <td>2.140308</td>\n",
       "      <td>1.799631</td>\n",
       "      <td>0.383699</td>\n",
       "      <td>6.389026</td>\n",
       "    </tr>\n",
       "    <tr>\n",
       "      <th>3</th>\n",
       "      <td>1.964398</td>\n",
       "      <td>2.045052</td>\n",
       "      <td>2.241137</td>\n",
       "      <td>2.052276</td>\n",
       "      <td>2.756461</td>\n",
       "    </tr>\n",
       "    <tr>\n",
       "      <th>4</th>\n",
       "      <td>-0.456011</td>\n",
       "      <td>0.058226</td>\n",
       "      <td>0.483865</td>\n",
       "      <td>0.198940</td>\n",
       "      <td>0.929623</td>\n",
       "    </tr>\n",
       "  </tbody>\n",
       "</table>\n",
       "</div>"
      ],
      "text/plain": [
       "   loudness_sma3_pctlrange0-2  loudness_sma3_percentile80.0  \\\n",
       "0                    2.289903                      2.337257   \n",
       "1                    2.076183                      2.983934   \n",
       "2                    2.111819                      2.140308   \n",
       "3                    1.964398                      2.045052   \n",
       "4                   -0.456011                      0.058226   \n",
       "\n",
       "   loudness_sma3_amean  loudness_sma3_percentile50.0  \\\n",
       "0             1.856163                      0.733909   \n",
       "1             3.521441                      3.653629   \n",
       "2             1.799631                      0.383699   \n",
       "3             2.241137                      2.052276   \n",
       "4             0.483865                      0.198940   \n",
       "\n",
       "   spectralFluxV_sma3nz_amean  \n",
       "0                    2.760294  \n",
       "1                    3.364344  \n",
       "2                    6.389026  \n",
       "3                    2.756461  \n",
       "4                    0.929623  "
      ]
     },
     "execution_count": 10,
     "metadata": {},
     "output_type": "execute_result"
    }
   ],
   "source": [
    "features = [correlation_tups[x][0] for x in range(5)]\n",
    "filtered_df = X_train.loc[:, features]\n",
    "filtered_test = X_test.loc[:, features]\n",
    "filtered_test.head()"
   ]
  },
  {
   "cell_type": "code",
   "execution_count": 11,
   "metadata": {
    "ExecuteTime": {
     "end_time": "2024-05-04T19:26:41.670122100Z",
     "start_time": "2024-05-04T18:58:32.774600300Z"
    }
   },
   "outputs": [
    {
     "data": {
      "image/png": "[encoded data removed]",
      "text/plain": [
       "<Figure size 640x480 with 1 Axes>"
      ]
     },
     "metadata": {},
     "output_type": "display_data"
    }
   ],
   "source": [
    "# add gender label back in\n",
    "X_train_dep = X_train.copy()\n",
    "X_train_dep['Gender'] = y_train_gender\n",
    "X_test_dep = X_test.copy()\n",
    "X_test_dep['Gender'] = y_test_gender\n",
    "# run model on filtered features\n",
    "class_acc_dep_fs, bca_dep_fs, male_class_acc_dep_fs, male_bca_dep_fs, female_class_acc_dep_fs, female_bca_dep_fs, eo_dep_fs = [],[],[],[],[], [], []\n",
    "for n in range(10, 51, 5):\n",
    "    # select top performing features\n",
    "    features = [correlation_tups[x][0] for x in range(n)]\n",
    "    filtered_df = X_train_dep.loc[:, features]\n",
    "    # build random forest on these features\n",
    "    best_acc, best_rand_forest, best_params = train_random_forest(filtered_df, y_train_depression)\n",
    "    filtered_test = X_test_dep.loc[:, features]\n",
    "    predictions = best_rand_forest.predict(filtered_test)\n",
    "    # store accuracies\n",
    "    test_df_pred = test_df.copy()\n",
    "    test_df_pred['predictions'] = predictions\n",
    "    all_res, male_res, female_res, eo_res = analyze_results(test_df_pred,  \n",
    "                                                            threshold=.2,\n",
    "                                                            display_results=False)\n",
    "    class_acc_dep_fs.append(all_res['accuracy'])\n",
    "    bca_dep_fs.append(all_res['balanced_accuracy'])\n",
    "    male_class_acc_dep_fs.append(male_res['accuracy'])\n",
    "    male_bca_dep_fs.append(male_res['balanced_accuracy'])\n",
    "    female_class_acc_dep_fs.append(female_res['accuracy'])\n",
    "    female_bca_dep_fs.append(female_res['balanced_accuracy'])\n",
    "    eo_dep_fs.append(eo_res)\n",
    "\n",
    "\n",
    "# plot results\n",
    "fig, ax = plt.subplots(1, 1)\n",
    "num_feats = range(10, 51, 5)\n",
    "ax.plot(num_feats, class_acc_dep_fs, label = \"Classification Accuracy\", color='darkviolet') \n",
    "ax.plot(num_feats, male_class_acc_dep_fs, label = \"Male Classification Accuracy\", color='royalblue') \n",
    "ax.plot(num_feats, female_class_acc_dep_fs, label = \"Female Classification Accuracy\", color='violet') \n",
    "ax.plot(num_feats, bca_dep_fs, label = \"Balanced Classification Accuracy\", color='darkviolet', linestyle='dashed') \n",
    "ax.plot(num_feats, male_bca_dep_fs, label = \"Male Balanced Classification Accuracy\", color='royalblue', linestyle='dashed') \n",
    "ax.plot(num_feats, female_bca_dep_fs, label = \"Female Balanced Classification Accuracy\", color='violet', linestyle='dashed') \n",
    "ax.plot(num_feats, eo_dep_fs, label = \"Equality of Opportunity\", color='darkviolet', linestyle='dotted')\n",
    "ax.set_title('Depression Classification Metrics Over Feature Selection')\n",
    "ax.set_xlabel('Number of Features Analyzed')\n",
    "ax.set_ylabel('Classification Accuracy')\n",
    "fig.tight_layout()\n",
    "plt.legend(loc='upper right', bbox_to_anchor=(1.15, 0.5, 0.5, 0.5)) \n",
    "plt.show()"
   ]
  },
  {
   "cell_type": "markdown",
   "metadata": {},
   "source": [
    "The above plot shows the depression classification accuracy measures over male and female participants as the number of features included in the model increase. With minimal (10) features included in the model training, the Random Forest Classifier has its highest performance on female participants. As more features (with decreasing correlation) increase, the classification accuracy on male participants increases, while the classification accuracy on female participants decreases. "
   ]
  },
  {
   "cell_type": "code",
   "execution_count": 12,
   "metadata": {
    "ExecuteTime": {
     "end_time": "2024-05-04T19:26:41.890553500Z",
     "start_time": "2024-05-04T19:26:41.670122100Z"
    }
   },
   "outputs": [
    {
     "data": {
      "image/png": "[encoded data removed]",
      "text/plain": [
       "<Figure size 1200x700 with 1 Axes>"
      ]
     },
     "metadata": {},
     "output_type": "display_data"
    }
   ],
   "source": [
    "best_ind = bca_dep_fs.index(max(bca_dep_fs))\n",
    "best_male_ind = male_bca_dep_fs.index(max(male_bca_dep_fs))\n",
    "best_female_ind = female_bca_dep_fs.index(max(female_bca_dep_fs))\n",
    "measures = ['Acc', 'BCA', 'Male Acc', 'Male BCA', 'Female Acc', 'Female BCA', 'EO']\n",
    "all_metrics_depression = {x:round(y, 2) for x,y in all_metrics_depression.items()}\n",
    "male_metrics = {x:round(y, 2) for x,y in male_metrics_depression.items()}\n",
    "female_metrics = {x:round(y, 2) for x,y in female_metrics_depression.items()}\n",
    "class_acc = [round(x, 2) for x in class_acc_dep_fs]\n",
    "male_class_acc = [round(x, 2) for x in male_class_acc_dep_fs]\n",
    "female_class_acc = [round(x, 2) for x in female_class_acc_dep_fs]\n",
    "bca = [round(x, 2) for x in bca_dep_fs]\n",
    "male_bca = [round(x, 2) for x in male_bca_dep_fs]\n",
    "female_bca = [round(x, 2) for x in female_bca_dep_fs]\n",
    "vals = {\n",
    "    'all features': [all_metrics_depression['accuracy'], all_metrics_depression['balanced_accuracy'], \n",
    "                     male_metrics['accuracy'], male_metrics['balanced_accuracy'], \n",
    "                     female_metrics['accuracy'], female_metrics['balanced_accuracy'], .6],\n",
    "    'top performing features (depression)': [class_acc[best_ind], bca[best_ind], \n",
    "                          male_class_acc[best_male_ind], male_bca[best_male_ind],\n",
    "                          female_class_acc[best_female_ind], female_bca[best_female_ind], eo_dep_fs[best_ind]],     \n",
    "}\n",
    "bar_graph(vals, measures, 'Depression Classification Metrics With Varied Feature Selection Methods')"
   ]
  },
  {
   "cell_type": "markdown",
   "metadata": {},
   "source": [
    "The balanced classification accuracy sees a slight change from the best performing feature-selection model to the original model. The overall classification accuracy remains unchanged. \n",
    "While the feature selection model increases accuracies for both male and female participants, there is a greater difference in the performance by gender than in the original model.\n",
    "The original model performs better on classifying the female participants, with a 5% difference in the balanced classificaiton accuracy. However, the feature-selection model performs better on classifying male participants, with a 27% difference in the balanced classification accuracy. "
   ]
  },
  {
   "cell_type": "markdown",
   "metadata": {},
   "source": [
    "### Problem (1c) Gender Feature Selection\n"
   ]
  },
  {
   "cell_type": "code",
   "execution_count": 22,
   "metadata": {},
   "outputs": [],
   "source": [
    "features = pd.read_csv('feature_description.csv',\n",
    "                    encoding = 'ISO-8859-1')"
   ]
  },
  {
   "cell_type": "code",
   "execution_count": 25,
   "metadata": {},
   "outputs": [],
   "source": [
    "column_name_features = features.columns"
   ]
  },
  {
   "cell_type": "code",
   "execution_count": 26,
   "metadata": {},
   "outputs": [],
   "source": [
    "features.rename(columns={column_name_features[0]: 'Features', column_name_features[1]: 'Description'}, inplace=True)\n"
   ]
  },
  {
   "cell_type": "code",
   "execution_count": 27,
   "metadata": {},
   "outputs": [
    {
     "data": {
      "text/html": [
       "<div>\n",
       "<style scoped>\n",
       "    .dataframe tbody tr th:only-of-type {\n",
       "        vertical-align: middle;\n",
       "    }\n",
       "\n",
       "    .dataframe tbody tr th {\n",
       "        vertical-align: top;\n",
       "    }\n",
       "\n",
       "    .dataframe thead th {\n",
       "        text-align: right;\n",
       "    }\n",
       "</style>\n",
       "<table border=\"1\" class=\"dataframe\">\n",
       "  <thead>\n",
       "    <tr style=\"text-align: right;\">\n",
       "      <th></th>\n",
       "      <th>Features</th>\n",
       "      <th>Description</th>\n",
       "    </tr>\n",
       "  </thead>\n",
       "  <tbody>\n",
       "    <tr>\n",
       "      <th>0</th>\n",
       "      <td>F0semitoneFrom27.5Hz_sma3nz_stddevNorm</td>\n",
       "      <td>standard deviation of logarithmic F0 on a semi...</td>\n",
       "    </tr>\n",
       "    <tr>\n",
       "      <th>1</th>\n",
       "      <td>F0semitoneFrom27.5Hz_sma3nz_percentile20.0</td>\n",
       "      <td>20th percentile of logarithmic F0 on a semiton...</td>\n",
       "    </tr>\n",
       "    <tr>\n",
       "      <th>2</th>\n",
       "      <td>F0semitoneFrom27.5Hz_sma3nz_percentile50.0</td>\n",
       "      <td>50th percentile of logarithmic F0 on a semiton...</td>\n",
       "    </tr>\n",
       "    <tr>\n",
       "      <th>3</th>\n",
       "      <td>F0semitoneFrom27.5Hz_sma3nz_percentile80.0</td>\n",
       "      <td>80th percentile of logarithmic F0 on a semiton...</td>\n",
       "    </tr>\n",
       "    <tr>\n",
       "      <th>4</th>\n",
       "      <td>F0semitoneFrom27.5Hz_sma3nz_pctlrange0-2</td>\n",
       "      <td>range of 20th to 80th percentile of logarithmi...</td>\n",
       "    </tr>\n",
       "  </tbody>\n",
       "</table>\n",
       "</div>"
      ],
      "text/plain": [
       "                                     Features  \\\n",
       "0      F0semitoneFrom27.5Hz_sma3nz_stddevNorm   \n",
       "1  F0semitoneFrom27.5Hz_sma3nz_percentile20.0   \n",
       "2  F0semitoneFrom27.5Hz_sma3nz_percentile50.0   \n",
       "3  F0semitoneFrom27.5Hz_sma3nz_percentile80.0   \n",
       "4    F0semitoneFrom27.5Hz_sma3nz_pctlrange0-2   \n",
       "\n",
       "                                         Description  \n",
       "0  standard deviation of logarithmic F0 on a semi...  \n",
       "1  20th percentile of logarithmic F0 on a semiton...  \n",
       "2  50th percentile of logarithmic F0 on a semiton...  \n",
       "3  80th percentile of logarithmic F0 on a semiton...  \n",
       "4  range of 20th to 80th percentile of logarithmi...  "
      ]
     },
     "execution_count": 27,
     "metadata": {},
     "output_type": "execute_result"
    }
   ],
   "source": [
    "features.head()"
   ]
  },
  {
   "cell_type": "code",
   "execution_count": 28,
   "metadata": {},
   "outputs": [],
   "source": [
    "column_name_features = features.columns"
   ]
  },
  {
   "cell_type": "code",
   "execution_count": 29,
   "metadata": {},
   "outputs": [],
   "source": [
    "i = 20  # Number of features\n",
    "X_train_mod = X_train.values\n",
    "correlations = [abs(pearsonr(X_train_mod[:, j], y_train_gender)[0]) for j in range(X_train.shape[1])]\n",
    "top_feature_indices = sorted(range(len(correlations)), key=lambda j: correlations[j], reverse=True)[:i]\n",
    "X_train_selected = X_train_mod[:, top_feature_indices]\n"
   ]
  },
  {
   "cell_type": "code",
   "execution_count": 30,
   "metadata": {},
   "outputs": [
    {
     "data": {
      "text/html": [
       "<div>\n",
       "<style scoped>\n",
       "    .dataframe tbody tr th:only-of-type {\n",
       "        vertical-align: middle;\n",
       "    }\n",
       "\n",
       "    .dataframe tbody tr th {\n",
       "        vertical-align: top;\n",
       "    }\n",
       "\n",
       "    .dataframe thead th {\n",
       "        text-align: right;\n",
       "    }\n",
       "</style>\n",
       "<table border=\"1\" class=\"dataframe\">\n",
       "  <thead>\n",
       "    <tr style=\"text-align: right;\">\n",
       "      <th></th>\n",
       "      <th>Features</th>\n",
       "      <th>Description</th>\n",
       "    </tr>\n",
       "  </thead>\n",
       "  <tbody>\n",
       "    <tr>\n",
       "      <th>0</th>\n",
       "      <td>F0semitoneFrom27.5Hz_sma3nz_stddevNorm</td>\n",
       "      <td>standard deviation of logarithmic F0 on a semi...</td>\n",
       "    </tr>\n",
       "    <tr>\n",
       "      <th>1</th>\n",
       "      <td>F0semitoneFrom27.5Hz_sma3nz_percentile20.0</td>\n",
       "      <td>20th percentile of logarithmic F0 on a semiton...</td>\n",
       "    </tr>\n",
       "    <tr>\n",
       "      <th>2</th>\n",
       "      <td>F0semitoneFrom27.5Hz_sma3nz_percentile50.0</td>\n",
       "      <td>50th percentile of logarithmic F0 on a semiton...</td>\n",
       "    </tr>\n",
       "    <tr>\n",
       "      <th>3</th>\n",
       "      <td>F0semitoneFrom27.5Hz_sma3nz_percentile80.0</td>\n",
       "      <td>80th percentile of logarithmic F0 on a semiton...</td>\n",
       "    </tr>\n",
       "    <tr>\n",
       "      <th>4</th>\n",
       "      <td>F0semitoneFrom27.5Hz_sma3nz_pctlrange0-2</td>\n",
       "      <td>range of 20th to 80th percentile of logarithmi...</td>\n",
       "    </tr>\n",
       "  </tbody>\n",
       "</table>\n",
       "</div>"
      ],
      "text/plain": [
       "                                     Features  \\\n",
       "0      F0semitoneFrom27.5Hz_sma3nz_stddevNorm   \n",
       "1  F0semitoneFrom27.5Hz_sma3nz_percentile20.0   \n",
       "2  F0semitoneFrom27.5Hz_sma3nz_percentile50.0   \n",
       "3  F0semitoneFrom27.5Hz_sma3nz_percentile80.0   \n",
       "4    F0semitoneFrom27.5Hz_sma3nz_pctlrange0-2   \n",
       "\n",
       "                                         Description  \n",
       "0  standard deviation of logarithmic F0 on a semi...  \n",
       "1  20th percentile of logarithmic F0 on a semiton...  \n",
       "2  50th percentile of logarithmic F0 on a semiton...  \n",
       "3  80th percentile of logarithmic F0 on a semiton...  \n",
       "4  range of 20th to 80th percentile of logarithmi...  "
      ]
     },
     "execution_count": 30,
     "metadata": {},
     "output_type": "execute_result"
    }
   ],
   "source": [
    "features.head()"
   ]
  },
  {
   "cell_type": "code",
   "execution_count": 31,
   "metadata": {},
   "outputs": [],
   "source": [
    "feature_names = features['Features'].tolist()\n",
    "descriptions = features['Description'].tolist()"
   ]
  },
  {
   "cell_type": "code",
   "execution_count": 40,
   "metadata": {},
   "outputs": [],
   "source": [
    "def find_best_features(X, y, best_prams):\n",
    "    l = len(X)\n",
    "    X_train = X[:int(0.7*l)]\n",
    "    X_train = X_train.values\n",
    "    y_train = y[:int(0.7*l)]\n",
    "    X_val = X[int(-0.3*l):]\n",
    "    X_val = X_val.values\n",
    "    y_val = y[int(-0.3*l):]\n",
    "    clf = RandomForestClassifier(random_state = 42, class_weight = 'balanced', n_estimators = best_prams[0], max_depth = best_prams[1])\n",
    "\n",
    "    # Declare range\n",
    "    num_features = range(5, 31, 5)\n",
    "    result = []\n",
    "    correlations = [abs(pearsonr(X_train[:, i], y_train)[0]) for i in range(X_train.shape[1])]\n",
    "\n",
    "    for num in num_features:\n",
    "        top_feature_indices = sorted(range(len(correlations)), key=lambda i: correlations[i], reverse=True)[:num]\n",
    "        X_train_selected = X_train[:, top_feature_indices]\n",
    "        X_val_selected = X_val[:, top_feature_indices]\n",
    "        clf.fit(X_train_selected, y_train)\n",
    "        y_pred = clf.predict(X_val_selected)\n",
    "        metrics = calculate_accuracy(y_val, y_pred, False)\n",
    "        result.append({'model':clf, 'indices':top_feature_indices,'Number of Features': num, 'Accuracy':metrics['accuracy']})\n",
    "    return result, correlations\n",
    "    "
   ]
  },
  {
   "cell_type": "code",
   "execution_count": 41,
   "metadata": {},
   "outputs": [
    {
     "name": "stdout",
     "output_type": "stream",
     "text": [
      "Metrics for False:\n",
      "Accuracy: 0.85\n",
      "Balanced Accuracy: 0.83\n",
      "True Positive Rate (TPR): 0.95\n",
      "True Negative Rate (TNR): 0.70\n",
      "False Positive Rate (FPR): 0.30\n",
      "False Negative Rate (FNR): 0.05\n",
      "Metrics for False:\n",
      "Accuracy: 0.84\n",
      "Balanced Accuracy: 0.82\n",
      "True Positive Rate (TPR): 0.93\n",
      "True Negative Rate (TNR): 0.71\n",
      "False Positive Rate (FPR): 0.29\n",
      "False Negative Rate (FNR): 0.07\n",
      "Metrics for False:\n",
      "Accuracy: 0.85\n",
      "Balanced Accuracy: 0.84\n",
      "True Positive Rate (TPR): 0.94\n",
      "True Negative Rate (TNR): 0.73\n",
      "False Positive Rate (FPR): 0.27\n",
      "False Negative Rate (FNR): 0.06\n",
      "Metrics for False:\n",
      "Accuracy: 0.86\n",
      "Balanced Accuracy: 0.84\n",
      "True Positive Rate (TPR): 0.94\n",
      "True Negative Rate (TNR): 0.74\n",
      "False Positive Rate (FPR): 0.26\n",
      "False Negative Rate (FNR): 0.06\n",
      "Metrics for False:\n",
      "Accuracy: 0.85\n",
      "Balanced Accuracy: 0.83\n",
      "True Positive Rate (TPR): 0.94\n",
      "True Negative Rate (TNR): 0.73\n",
      "False Positive Rate (FPR): 0.27\n",
      "False Negative Rate (FNR): 0.06\n",
      "Metrics for False:\n",
      "Accuracy: 0.86\n",
      "Balanced Accuracy: 0.85\n",
      "True Positive Rate (TPR): 0.93\n",
      "True Negative Rate (TNR): 0.76\n",
      "False Positive Rate (FPR): 0.24\n",
      "False Negative Rate (FNR): 0.07\n"
     ]
    }
   ],
   "source": [
    "result_gender, correlations_gender = find_best_features(X_train, y_train_gender, best_param_gender)"
   ]
  },
  {
   "cell_type": "code",
   "execution_count": 42,
   "metadata": {},
   "outputs": [
    {
     "name": "stdout",
     "output_type": "stream",
     "text": [
      "Number of features:  5  gave accuracy of:  0.8469387755102041\n",
      "Number of features:  10  gave accuracy of:  0.8392857142857143\n",
      "Number of features:  15  gave accuracy of:  0.8534580498866213\n",
      "Number of features:  20  gave accuracy of:  0.8571428571428571\n",
      "Number of features:  25  gave accuracy of:  0.8537414965986394\n",
      "Number of features:  30  gave accuracy of:  0.8633786848072562\n"
     ]
    }
   ],
   "source": [
    "best_acc_filtered_gender = 0\n",
    "n_best  = None\n",
    "top_feature_df_gender_list = []\n",
    "for n in result_gender:\n",
    "    if(n['Accuracy'] > best_acc_filtered_gender):\n",
    "        best_acc_filtered_gender = n['Accuracy']\n",
    "        n_best = n\n",
    "    top_feature_df_gender_list.append({'Number of Features': n['Number of Features'], 'Accuracy':n['Accuracy']})\n",
    "    print(\"Number of features: \", n['Number of Features'],\" gave accuracy of: \", n['Accuracy'])\n",
    "top_feature_df_gender = pd.DataFrame(top_feature_df_gender_list)"
   ]
  },
  {
   "cell_type": "code",
   "execution_count": 43,
   "metadata": {},
   "outputs": [
    {
     "data": {
      "text/html": [
       "<div>\n",
       "<style scoped>\n",
       "    .dataframe tbody tr th:only-of-type {\n",
       "        vertical-align: middle;\n",
       "    }\n",
       "\n",
       "    .dataframe tbody tr th {\n",
       "        vertical-align: top;\n",
       "    }\n",
       "\n",
       "    .dataframe thead th {\n",
       "        text-align: right;\n",
       "    }\n",
       "</style>\n",
       "<table border=\"1\" class=\"dataframe\">\n",
       "  <thead>\n",
       "    <tr style=\"text-align: right;\">\n",
       "      <th></th>\n",
       "      <th>Number of Features</th>\n",
       "      <th>Accuracy</th>\n",
       "    </tr>\n",
       "  </thead>\n",
       "  <tbody>\n",
       "    <tr>\n",
       "      <th>0</th>\n",
       "      <td>5</td>\n",
       "      <td>0.846939</td>\n",
       "    </tr>\n",
       "    <tr>\n",
       "      <th>1</th>\n",
       "      <td>10</td>\n",
       "      <td>0.839286</td>\n",
       "    </tr>\n",
       "    <tr>\n",
       "      <th>2</th>\n",
       "      <td>15</td>\n",
       "      <td>0.853458</td>\n",
       "    </tr>\n",
       "    <tr>\n",
       "      <th>3</th>\n",
       "      <td>20</td>\n",
       "      <td>0.857143</td>\n",
       "    </tr>\n",
       "    <tr>\n",
       "      <th>4</th>\n",
       "      <td>25</td>\n",
       "      <td>0.853741</td>\n",
       "    </tr>\n",
       "  </tbody>\n",
       "</table>\n",
       "</div>"
      ],
      "text/plain": [
       "   Number of Features  Accuracy\n",
       "0                   5  0.846939\n",
       "1                  10  0.839286\n",
       "2                  15  0.853458\n",
       "3                  20  0.857143\n",
       "4                  25  0.853741"
      ]
     },
     "execution_count": 43,
     "metadata": {},
     "output_type": "execute_result"
    }
   ],
   "source": [
    "top_feature_df_gender.head()"
   ]
  },
  {
   "cell_type": "code",
   "execution_count": 44,
   "metadata": {},
   "outputs": [
    {
     "data": {
      "image/png": "[encoded data removed]",
      "text/plain": [
       "<Figure size 640x480 with 1 Axes>"
      ]
     },
     "metadata": {},
     "output_type": "display_data"
    }
   ],
   "source": [
    "# plot results\n",
    "fig, ax = plt.subplots(1, 1)\n",
    "num_top_features = range(5, 31, 5)\n",
    "ax.plot(num_top_features, top_feature_df_gender['Accuracy'], label = \"Classification Accuracy\", color='darkviolet') \n",
    "ax.set_title('Gender Classification Metrics Over top feature')\n",
    "ax.set_xlabel('Top Features')\n",
    "ax.set_ylabel('Classification Accuracy')\n",
    "fig.tight_layout()\n",
    "plt.legend(loc='upper right', bbox_to_anchor=(1.15, 0.5, 0.5, 0.5)) \n",
    "plt.show()"
   ]
  },
  {
   "cell_type": "markdown",
   "metadata": {},
   "source": [
    "#### Finding the most informative features for gender"
   ]
  },
  {
   "cell_type": "code",
   "execution_count": 47,
   "metadata": {},
   "outputs": [
    {
     "data": {
      "text/html": [
       "<div>\n",
       "<style scoped>\n",
       "    .dataframe tbody tr th:only-of-type {\n",
       "        vertical-align: middle;\n",
       "    }\n",
       "\n",
       "    .dataframe tbody tr th {\n",
       "        vertical-align: top;\n",
       "    }\n",
       "\n",
       "    .dataframe thead th {\n",
       "        text-align: right;\n",
       "    }\n",
       "</style>\n",
       "<table border=\"1\" class=\"dataframe\">\n",
       "  <thead>\n",
       "    <tr style=\"text-align: right;\">\n",
       "      <th></th>\n",
       "      <th>Feature</th>\n",
       "      <th>Feature Description</th>\n",
       "      <th>Correlation</th>\n",
       "    </tr>\n",
       "  </thead>\n",
       "  <tbody>\n",
       "    <tr>\n",
       "      <th>0</th>\n",
       "      <td>HNRdBACF_sma3nz_stddevNorm</td>\n",
       "      <td>standard deviation of Harmonics-to-Noise Ratio...</td>\n",
       "      <td>0.616603</td>\n",
       "    </tr>\n",
       "    <tr>\n",
       "      <th>1</th>\n",
       "      <td>slopeV0-500_sma3nz_stddevNorm</td>\n",
       "      <td>standard deviation of spectral slope from 0Ð50...</td>\n",
       "      <td>0.560016</td>\n",
       "    </tr>\n",
       "    <tr>\n",
       "      <th>2</th>\n",
       "      <td>F0semitoneFrom27.5Hz_sma3nz_percentile80.0</td>\n",
       "      <td>80th percentile of logarithmic F0 on a semiton...</td>\n",
       "      <td>0.571997</td>\n",
       "    </tr>\n",
       "    <tr>\n",
       "      <th>3</th>\n",
       "      <td>F0semitoneFrom27.5Hz_sma3nz_percentile50.0</td>\n",
       "      <td>50th percentile of logarithmic F0 on a semiton...</td>\n",
       "      <td>0.569876</td>\n",
       "    </tr>\n",
       "    <tr>\n",
       "      <th>4</th>\n",
       "      <td>F0semitoneFrom27.5Hz_sma3nz_stddevNorm</td>\n",
       "      <td>standard deviation of logarithmic F0 on a semi...</td>\n",
       "      <td>0.561701</td>\n",
       "    </tr>\n",
       "    <tr>\n",
       "      <th>5</th>\n",
       "      <td>F0semitoneFrom27.5Hz_sma3nz_pctlrange0-2</td>\n",
       "      <td>range of 20th to 80th percentile of logarithmi...</td>\n",
       "      <td>0.547992</td>\n",
       "    </tr>\n",
       "    <tr>\n",
       "      <th>6</th>\n",
       "      <td>mfcc4V_sma3nz_stddevNorm</td>\n",
       "      <td>standard deviation of the fourth Mel-Frequency...</td>\n",
       "      <td>0.409428</td>\n",
       "    </tr>\n",
       "    <tr>\n",
       "      <th>7</th>\n",
       "      <td>mfcc4_sma3_stddevNorm</td>\n",
       "      <td>standard deviation of the fourth Mel-Frequency...</td>\n",
       "      <td>0.388414</td>\n",
       "    </tr>\n",
       "    <tr>\n",
       "      <th>8</th>\n",
       "      <td>shimmerLocaldB_sma3nz_amean</td>\n",
       "      <td>mean shimmer</td>\n",
       "      <td>0.324747</td>\n",
       "    </tr>\n",
       "    <tr>\n",
       "      <th>9</th>\n",
       "      <td>HNRdBACF_sma3nz_amean</td>\n",
       "      <td>mean Harmonics-to-Noise Ratio (HNR)</td>\n",
       "      <td>0.247190</td>\n",
       "    </tr>\n",
       "    <tr>\n",
       "      <th>10</th>\n",
       "      <td>mfcc3V_sma3nz_stddevNorm</td>\n",
       "      <td>standard deviation of the third Mel-Frequency-...</td>\n",
       "      <td>0.258820</td>\n",
       "    </tr>\n",
       "    <tr>\n",
       "      <th>11</th>\n",
       "      <td>F3amplitudeLogRelF0_sma3nz_amean</td>\n",
       "      <td>mean ratio of the energy of the spectral harmo...</td>\n",
       "      <td>0.248809</td>\n",
       "    </tr>\n",
       "    <tr>\n",
       "      <th>12</th>\n",
       "      <td>F1bandwidth_sma3nz_amean</td>\n",
       "      <td>mean bandwidth of the first formant (F1)</td>\n",
       "      <td>0.262052</td>\n",
       "    </tr>\n",
       "    <tr>\n",
       "      <th>13</th>\n",
       "      <td>mfcc3_sma3_stddevNorm</td>\n",
       "      <td>standard deviation of the third Mel-Frequency-...</td>\n",
       "      <td>0.249325</td>\n",
       "    </tr>\n",
       "    <tr>\n",
       "      <th>14</th>\n",
       "      <td>slopeUV500-1500_sma3nz_amean</td>\n",
       "      <td>mean spectral slope from 500-1500 Hz over all ...</td>\n",
       "      <td>0.257647</td>\n",
       "    </tr>\n",
       "    <tr>\n",
       "      <th>15</th>\n",
       "      <td>mfcc1V_sma3nz_amean</td>\n",
       "      <td>mean of the first Mel-Frequency-Cepstral-Coeff...</td>\n",
       "      <td>0.222015</td>\n",
       "    </tr>\n",
       "    <tr>\n",
       "      <th>16</th>\n",
       "      <td>F1frequency_sma3nz_stddevNorm</td>\n",
       "      <td>standard deviation of frequency of the first f...</td>\n",
       "      <td>0.223307</td>\n",
       "    </tr>\n",
       "    <tr>\n",
       "      <th>17</th>\n",
       "      <td>F2bandwidth_sma3nz_amean</td>\n",
       "      <td>mean bandwidth of the second formant (F2)</td>\n",
       "      <td>0.214611</td>\n",
       "    </tr>\n",
       "    <tr>\n",
       "      <th>18</th>\n",
       "      <td>mfcc2V_sma3nz_stddevNorm</td>\n",
       "      <td>standard deviation of the second Mel-Frequency...</td>\n",
       "      <td>0.160730</td>\n",
       "    </tr>\n",
       "    <tr>\n",
       "      <th>19</th>\n",
       "      <td>F3bandwidth_sma3nz_amean</td>\n",
       "      <td>mean bandwidth of the third formant (F3)</td>\n",
       "      <td>0.196774</td>\n",
       "    </tr>\n",
       "  </tbody>\n",
       "</table>\n",
       "</div>"
      ],
      "text/plain": [
       "                                       Feature  \\\n",
       "0                   HNRdBACF_sma3nz_stddevNorm   \n",
       "1                slopeV0-500_sma3nz_stddevNorm   \n",
       "2   F0semitoneFrom27.5Hz_sma3nz_percentile80.0   \n",
       "3   F0semitoneFrom27.5Hz_sma3nz_percentile50.0   \n",
       "4       F0semitoneFrom27.5Hz_sma3nz_stddevNorm   \n",
       "5     F0semitoneFrom27.5Hz_sma3nz_pctlrange0-2   \n",
       "6                     mfcc4V_sma3nz_stddevNorm   \n",
       "7                        mfcc4_sma3_stddevNorm   \n",
       "8                  shimmerLocaldB_sma3nz_amean   \n",
       "9                        HNRdBACF_sma3nz_amean   \n",
       "10                    mfcc3V_sma3nz_stddevNorm   \n",
       "11            F3amplitudeLogRelF0_sma3nz_amean   \n",
       "12                    F1bandwidth_sma3nz_amean   \n",
       "13                       mfcc3_sma3_stddevNorm   \n",
       "14                slopeUV500-1500_sma3nz_amean   \n",
       "15                         mfcc1V_sma3nz_amean   \n",
       "16               F1frequency_sma3nz_stddevNorm   \n",
       "17                    F2bandwidth_sma3nz_amean   \n",
       "18                    mfcc2V_sma3nz_stddevNorm   \n",
       "19                    F3bandwidth_sma3nz_amean   \n",
       "\n",
       "                                  Feature Description  Correlation  \n",
       "0   standard deviation of Harmonics-to-Noise Ratio...     0.616603  \n",
       "1   standard deviation of spectral slope from 0Ð50...     0.560016  \n",
       "2   80th percentile of logarithmic F0 on a semiton...     0.571997  \n",
       "3   50th percentile of logarithmic F0 on a semiton...     0.569876  \n",
       "4   standard deviation of logarithmic F0 on a semi...     0.561701  \n",
       "5   range of 20th to 80th percentile of logarithmi...     0.547992  \n",
       "6   standard deviation of the fourth Mel-Frequency...     0.409428  \n",
       "7   standard deviation of the fourth Mel-Frequency...     0.388414  \n",
       "8                                        mean shimmer     0.324747  \n",
       "9                 mean Harmonics-to-Noise Ratio (HNR)     0.247190  \n",
       "10  standard deviation of the third Mel-Frequency-...     0.258820  \n",
       "11  mean ratio of the energy of the spectral harmo...     0.248809  \n",
       "12           mean bandwidth of the first formant (F1)     0.262052  \n",
       "13  standard deviation of the third Mel-Frequency-...     0.249325  \n",
       "14  mean spectral slope from 500-1500 Hz over all ...     0.257647  \n",
       "15  mean of the first Mel-Frequency-Cepstral-Coeff...     0.222015  \n",
       "16  standard deviation of frequency of the first f...     0.223307  \n",
       "17          mean bandwidth of the second formant (F2)     0.214611  \n",
       "18  standard deviation of the second Mel-Frequency...     0.160730  \n",
       "19           mean bandwidth of the third formant (F3)     0.196774  "
      ]
     },
     "execution_count": 47,
     "metadata": {},
     "output_type": "execute_result"
    }
   ],
   "source": [
    "top_feature_names = [feature_names[index] for index in result_gender[3]['indices']]\n",
    "top_description = [descriptions[index] for index in result_gender[3]['indices']]\n",
    "\n",
    "# Create a DataFrame with feature names and their corresponding correlations\n",
    "correlation_df = pd.DataFrame({\n",
    "    'Feature': top_feature_names,\n",
    "    'Feature Description': top_description,\n",
    "    'Correlation': [correlations[index] for index in result_gender[3]['indices']]\n",
    "})\n",
    "\n",
    "correlation_df"
   ]
  },
  {
   "cell_type": "code",
   "execution_count": 48,
   "metadata": {},
   "outputs": [],
   "source": [
    "X_test_temp = X_test.values\n",
    "test_df_temp = test_df.copy()\n",
    "test_df_temp['prediction']= n_best['model'].predict(X_test_temp[:,n['indices']])"
   ]
  },
  {
   "cell_type": "code",
   "execution_count": 50,
   "metadata": {},
   "outputs": [
    {
     "name": "stdout",
     "output_type": "stream",
     "text": [
      "Metrics for All participants:\n",
      "Accuracy: 0.20\n",
      "Balanced Accuracy: 0.19\n",
      "True Positive Rate (TPR): 0.17\n",
      "True Negative Rate (TNR): 0.21\n",
      "False Positive Rate (FPR): 0.79\n",
      "False Negative Rate (FNR): 0.83\n",
      "\n",
      "Metrics for Male participants:\n",
      "Accuracy: 0.08\n",
      "Balanced Accuracy: 0.50\n",
      "True Positive Rate (TPR): 1.00\n",
      "True Negative Rate (TNR): 0.00\n",
      "False Positive Rate (FPR): 1.00\n",
      "False Negative Rate (FNR): 0.00\n",
      "\n",
      "Metrics for Female participants:\n",
      "Accuracy: 0.38\n",
      "Balanced Accuracy: 0.50\n",
      "True Positive Rate (TPR): 0.00\n",
      "True Negative Rate (TNR): 1.00\n",
      "False Positive Rate (FPR): 0.00\n",
      "False Negative Rate (FNR): 1.00\n",
      "Equality of Opportunity (EO): 0.00\n"
     ]
    }
   ],
   "source": [
    "filtered_metric_gender = analyze_results(test_df_temp, 'Gender' ,0.2)"
   ]
  },
  {
   "cell_type": "markdown",
   "metadata": {},
   "source": [
    "### Problem (1d) Mitigating Bias Via Removing Gender-Dependent Features\n"
   ]
  },
  {
   "cell_type": "code",
   "execution_count": 15,
   "metadata": {
    "ExecuteTime": {
     "end_time": "2024-05-04T19:26:42.033198800Z",
     "start_time": "2024-05-04T19:26:41.893067100Z"
    }
   },
   "outputs": [
    {
     "name": "stdout",
     "output_type": "stream",
     "text": [
      "Gender\n",
      "1    6873\n",
      "0    4889\n",
      "Name: count, dtype: int64\n"
     ]
    }
   ],
   "source": [
    "# sample based reweight\n",
    "\n",
    "samples_per_gender = train_df['Gender'].value_counts()\n",
    "total_samples = len(train_df)\n",
    "inverse_representation = total_samples / samples_per_gender\n",
    "print(samples_per_gender)\n",
    "\n",
    "train_df_weights = train_df.copy()\n",
    "train_df_weights['weights'] = train_df['Gender'].map(inverse_representation)\n",
    "reweights = train_df_weights['weights']"
   ]
  },
  {
   "cell_type": "code",
   "execution_count": 16,
   "metadata": {
    "ExecuteTime": {
     "end_time": "2024-05-04T19:32:19.805098Z",
     "start_time": "2024-05-04T19:31:45.457067900Z"
    },
    "collapsed": false,
    "jupyter": {
     "outputs_hidden": false
    }
   },
   "outputs": [
    {
     "name": "stdout",
     "output_type": "stream",
     "text": [
      "Metrics for All participants:\n",
      "Accuracy: 0.65\n",
      "Balanced Accuracy: 0.46\n",
      "True Positive Rate (TPR): 0.00\n",
      "True Negative Rate (TNR): 0.93\n",
      "False Positive Rate (FPR): 0.07\n",
      "False Negative Rate (FNR): 1.00\n",
      "\n",
      "Metrics for Male participants:\n",
      "Accuracy: 0.83\n",
      "Balanced Accuracy: 0.45\n",
      "True Positive Rate (TPR): 0.00\n",
      "True Negative Rate (TNR): 0.91\n",
      "False Positive Rate (FPR): 0.09\n",
      "False Negative Rate (FNR): 1.00\n",
      "\n",
      "Metrics for Female participants:\n",
      "Accuracy: 0.38\n",
      "Balanced Accuracy: 0.50\n",
      "True Positive Rate (TPR): 0.00\n",
      "True Negative Rate (TNR): 1.00\n",
      "False Positive Rate (FPR): 0.00\n",
      "False Negative Rate (FNR): 1.00\n",
      "Equality of Opportunity (EO): 1.00\n"
     ]
    }
   ],
   "source": [
    "model_sbr = RandomForestClassifier(random_state=42, class_weight='balanced')\n",
    "model_sbr.fit(X_train, y_train_depression, sample_weight=reweights)\n",
    "\n",
    "test_df_tmp['prediction']= model_sbr.predict(X_test)\n",
    "all_sbr, male_sbr, female_sbr, eo_sbr = analyze_results(test_df_tmp, prediction='prediction_sbr', threshold=.2)"
   ]
  },
  {
   "cell_type": "code",
   "execution_count": 52,
   "metadata": {},
   "outputs": [
    {
     "data": {
      "text/plain": [
       "({'accuracy': 0.2,\n",
       "  'balanced_accuracy': 0.19047619047619047,\n",
       "  'tpr': 0.16666666666666666,\n",
       "  'tnr': 0.21428571428571427,\n",
       "  'fpr': 0.7857142857142857,\n",
       "  'fnr': 0.8333333333333334},\n",
       " {'accuracy': 0.08333333333333333,\n",
       "  'balanced_accuracy': 0.5,\n",
       "  'tpr': 1.0,\n",
       "  'tnr': 0.0,\n",
       "  'fpr': 1.0,\n",
       "  'fnr': 0.0},\n",
       " {'accuracy': 0.375,\n",
       "  'balanced_accuracy': 0.5,\n",
       "  'tpr': 0.0,\n",
       "  'tnr': 1.0,\n",
       "  'fpr': 0.0,\n",
       "  'fnr': 1.0},\n",
       " 0.0)"
      ]
     },
     "execution_count": 52,
     "metadata": {},
     "output_type": "execute_result"
    }
   ],
   "source": [
    "filtered_metric_gender"
   ]
  },
  {
   "cell_type": "code",
   "execution_count": 142,
   "metadata": {},
   "outputs": [],
   "source": [
    "def get_filtered_results(X_train, y_train, X_test, y_test, result, best_param, df):\n",
    "    X_train_temp = X_train.values\n",
    "    X_test_temp = X_test.values\n",
    "    clf_filtered = RandomForestClassifier(random_state = 42, class_weight = 'balanced', n_estimators = best_param_depression[0], max_depth = best_param_depression[1])\n",
    "    results_df = pd.DataFrame(columns=['accuracy', 'ba_accuracy', 'male_accuracy', 'ba_male_accuracy', 'female_accuracy', 'ba_female_accuracy'])\n",
    "    results_list = []\n",
    "    for n in result:\n",
    "        print(\"Training with number of features removed: \", n['Number of Features'])\n",
    "        X_train_filtered = X_train_temp[:, ~np.isin(np.arange(X_train_temp.shape[1]), n['indices'])]\n",
    "        print(X_train_filtered.shape)\n",
    "        X_test_filtered = X_test_temp[:, ~np.isin(np.arange(X_test_temp.shape[1]), n['indices'])]\n",
    "        clf_filtered.fit(X_train_filtered, y_train)\n",
    "        df['prediction'] = clf_filtered.predict(X_test_filtered)\n",
    "        # depreesion_metric  = calculate_accuracy(y_test, y_pred)\n",
    "        depreesion_metric, male_metric, female_metric, eo = analyze_results(df, False,'Depression',0.2)\n",
    "        eo = (1 - abs(male_metric[\"tpr\"] - female_metric[\"tpr\"]))\n",
    "        results_list.append({\n",
    "            'accuracy': depreesion_metric['accuracy'],\n",
    "            'male_accuracy': male_metric['accuracy'],\n",
    "            'female_accuracy':female_metric['accuracy'],\n",
    "            'ba_accuracy': depreesion_metric['balanced_accuracy'],\n",
    "            'ba_male_accuracy': male_metric['balanced_accuracy'],\n",
    "            'ba_female_accuracy':female_metric['balanced_accuracy'],\n",
    "            'eo': eo\n",
    "        })\n",
    "    results_df = pd.DataFrame(results_list)\n",
    "    return results_df"
   ]
  },
  {
   "cell_type": "code",
   "execution_count": 143,
   "metadata": {},
   "outputs": [
    {
     "name": "stdout",
     "output_type": "stream",
     "text": [
      "Training with number of features removed:  5\n",
      "(11762, 83)\n",
      "Training with number of features removed:  10\n",
      "(11762, 78)\n",
      "Training with number of features removed:  15\n",
      "(11762, 73)\n",
      "Training with number of features removed:  20\n",
      "(11762, 68)\n",
      "Training with number of features removed:  25\n",
      "(11762, 63)\n",
      "Training with number of features removed:  30\n",
      "(11762, 58)\n"
     ]
    }
   ],
   "source": [
    "result_dffiletered = get_filtered_results(X_train, y_train_depression, X_test, y_test_depression, result_gender, best_param_depression, test_df_temp)"
   ]
  },
  {
   "cell_type": "code",
   "execution_count": 144,
   "metadata": {},
   "outputs": [
    {
     "data": {
      "text/html": [
       "<div>\n",
       "<style scoped>\n",
       "    .dataframe tbody tr th:only-of-type {\n",
       "        vertical-align: middle;\n",
       "    }\n",
       "\n",
       "    .dataframe tbody tr th {\n",
       "        vertical-align: top;\n",
       "    }\n",
       "\n",
       "    .dataframe thead th {\n",
       "        text-align: right;\n",
       "    }\n",
       "</style>\n",
       "<table border=\"1\" class=\"dataframe\">\n",
       "  <thead>\n",
       "    <tr style=\"text-align: right;\">\n",
       "      <th></th>\n",
       "      <th>accuracy</th>\n",
       "      <th>male_accuracy</th>\n",
       "      <th>female_accuracy</th>\n",
       "      <th>ba_accuracy</th>\n",
       "      <th>ba_male_accuracy</th>\n",
       "      <th>ba_female_accuracy</th>\n",
       "      <th>eo</th>\n",
       "    </tr>\n",
       "  </thead>\n",
       "  <tbody>\n",
       "    <tr>\n",
       "      <th>0</th>\n",
       "      <td>0.65</td>\n",
       "      <td>0.833333</td>\n",
       "      <td>0.375</td>\n",
       "      <td>0.464286</td>\n",
       "      <td>0.454545</td>\n",
       "      <td>0.5</td>\n",
       "      <td>1.0</td>\n",
       "    </tr>\n",
       "    <tr>\n",
       "      <th>1</th>\n",
       "      <td>0.65</td>\n",
       "      <td>0.833333</td>\n",
       "      <td>0.375</td>\n",
       "      <td>0.464286</td>\n",
       "      <td>0.454545</td>\n",
       "      <td>0.5</td>\n",
       "      <td>1.0</td>\n",
       "    </tr>\n",
       "    <tr>\n",
       "      <th>2</th>\n",
       "      <td>0.65</td>\n",
       "      <td>0.833333</td>\n",
       "      <td>0.375</td>\n",
       "      <td>0.464286</td>\n",
       "      <td>0.454545</td>\n",
       "      <td>0.5</td>\n",
       "      <td>1.0</td>\n",
       "    </tr>\n",
       "    <tr>\n",
       "      <th>3</th>\n",
       "      <td>0.65</td>\n",
       "      <td>0.833333</td>\n",
       "      <td>0.375</td>\n",
       "      <td>0.464286</td>\n",
       "      <td>0.454545</td>\n",
       "      <td>0.5</td>\n",
       "      <td>1.0</td>\n",
       "    </tr>\n",
       "    <tr>\n",
       "      <th>4</th>\n",
       "      <td>0.70</td>\n",
       "      <td>0.916667</td>\n",
       "      <td>0.375</td>\n",
       "      <td>0.500000</td>\n",
       "      <td>0.500000</td>\n",
       "      <td>0.5</td>\n",
       "      <td>1.0</td>\n",
       "    </tr>\n",
       "    <tr>\n",
       "      <th>5</th>\n",
       "      <td>0.65</td>\n",
       "      <td>0.833333</td>\n",
       "      <td>0.375</td>\n",
       "      <td>0.464286</td>\n",
       "      <td>0.454545</td>\n",
       "      <td>0.5</td>\n",
       "      <td>1.0</td>\n",
       "    </tr>\n",
       "  </tbody>\n",
       "</table>\n",
       "</div>"
      ],
      "text/plain": [
       "   accuracy  male_accuracy  female_accuracy  ba_accuracy  ba_male_accuracy  \\\n",
       "0      0.65       0.833333            0.375     0.464286          0.454545   \n",
       "1      0.65       0.833333            0.375     0.464286          0.454545   \n",
       "2      0.65       0.833333            0.375     0.464286          0.454545   \n",
       "3      0.65       0.833333            0.375     0.464286          0.454545   \n",
       "4      0.70       0.916667            0.375     0.500000          0.500000   \n",
       "5      0.65       0.833333            0.375     0.464286          0.454545   \n",
       "\n",
       "   ba_female_accuracy   eo  \n",
       "0                 0.5  1.0  \n",
       "1                 0.5  1.0  \n",
       "2                 0.5  1.0  \n",
       "3                 0.5  1.0  \n",
       "4                 0.5  1.0  \n",
       "5                 0.5  1.0  "
      ]
     },
     "execution_count": 144,
     "metadata": {},
     "output_type": "execute_result"
    }
   ],
   "source": [
    "result_dffiletered"
   ]
  },
  {
   "cell_type": "code",
   "execution_count": 145,
   "metadata": {},
   "outputs": [
    {
     "data": {
      "image/png": "[encoded data removed]",
      "text/plain": [
       "<Figure size 640x480 with 1 Axes>"
      ]
     },
     "metadata": {},
     "output_type": "display_data"
    }
   ],
   "source": [
    "# plot results\n",
    "fig, ax = plt.subplots(1, 1)\n",
    "num_feats_removed = range(5, 31, 5)\n",
    "ax.plot(num_feats_removed, result_dffiletered['accuracy'], label = \"Classification Accuracy\", color='darkviolet') \n",
    "ax.plot(num_feats_removed, result_dffiletered['ba_accuracy'], label = \"Balanced Classification Accuracy\", color='darkviolet', linestyle='dashed') \n",
    "ax.plot(num_feats_removed, result_dffiletered['male_accuracy'], label = \"Male Classification Accuracy\", color='#5B1F84') \n",
    "ax.plot(num_feats_removed, result_dffiletered['female_accuracy'], label = \"Female Classification Accuracy\", color='#2D0F41') \n",
    "ax.plot(num_feats_removed, result_dffiletered['eo'], label = \"Equality of Opportunity\", color='violet', linestyle='dotted')\n",
    "ax.set_title('Depression Classification Metrics Over Feature Removal')\n",
    "ax.set_xlabel('Number of Features Removed')\n",
    "ax.set_ylabel('Classification Accuracy')\n",
    "fig.tight_layout()\n",
    "plt.legend(loc='upper right', bbox_to_anchor=(1.15, 0.5, 0.5, 0.5)) \n",
    "plt.show()"
   ]
  },
  {
   "cell_type": "markdown",
   "metadata": {},
   "source": [
    "From above we can see that, Classification accuracy for depression varies only slightly after removing the features in start but improves once hits the mark of 25. This indicatese that gender bias features skewed result towards one gender, and by removing those accuracy as well as EO improved."
   ]
  },
  {
   "cell_type": "markdown",
   "metadata": {},
   "source": [
    "### Problem (1e) Mitigating Bias Via Other Approaches\n",
    "\n",
    "#### Mitigating Bias via reweighting\n",
    "Reweight the samples between female and male speakers by computing the proportion of two classes, and also by applying 'balanced' class weight for random forest classifier."
   ]
  },
  {
   "cell_type": "markdown",
   "metadata": {
    "collapsed": false,
    "jupyter": {
     "outputs_hidden": false
    }
   },
   "source": [
    "#### Mitigating bias via autoencoder\n",
    "Implement autoencoder by training a m\n",
    "ulti-task neural network. Through the training, compute the loss for gender and depression, and try to decrease the loss of depression prediction while increasing the loss of gender prediction, which will make sure the output features will represent depression well but gender badly. To achieve that, use the negative value of binary cross entropy of gender prediction. After training, take the output as the transformed features."
   ]
  },
  {
   "cell_type": "code",
   "execution_count": 17,
   "metadata": {
    "ExecuteTime": {
     "end_time": "2024-05-04T19:33:17.811460Z",
     "start_time": "2024-05-04T19:32:55.781343800Z"
    },
    "collapsed": false,
    "jupyter": {
     "outputs_hidden": false
    }
   },
   "outputs": [
    {
     "name": "stdout",
     "output_type": "stream",
     "text": [
      "Epoch 1/10\n",
      "\u001b[1m368/368\u001b[0m \u001b[32m━━━━━━━━━━━━━━━━━━━━\u001b[0m\u001b[37m\u001b[0m \u001b[1m1s\u001b[0m 595us/step - loss: -3.9897\n",
      "Epoch 2/10\n",
      "\u001b[1m368/368\u001b[0m \u001b[32m━━━━━━━━━━━━━━━━━━━━\u001b[0m\u001b[37m\u001b[0m \u001b[1m0s\u001b[0m 557us/step - loss: -105.2637\n",
      "Epoch 3/10\n",
      "\u001b[1m368/368\u001b[0m \u001b[32m━━━━━━━━━━━━━━━━━━━━\u001b[0m\u001b[37m\u001b[0m \u001b[1m0s\u001b[0m 573us/step - loss: -388.0552\n",
      "Epoch 4/10\n",
      "\u001b[1m368/368\u001b[0m \u001b[32m━━━━━━━━━━━━━━━━━━━━\u001b[0m\u001b[37m\u001b[0m \u001b[1m0s\u001b[0m 565us/step - loss: -817.5867\n",
      "Epoch 5/10\n",
      "\u001b[1m368/368\u001b[0m \u001b[32m━━━━━━━━━━━━━━━━━━━━\u001b[0m\u001b[37m\u001b[0m \u001b[1m0s\u001b[0m 546us/step - loss: -1391.5699\n",
      "Epoch 6/10\n",
      "\u001b[1m368/368\u001b[0m \u001b[32m━━━━━━━━━━━━━━━━━━━━\u001b[0m\u001b[37m\u001b[0m \u001b[1m0s\u001b[0m 557us/step - loss: -2058.8611\n",
      "Epoch 7/10\n",
      "\u001b[1m368/368\u001b[0m \u001b[32m━━━━━━━━━━━━━━━━━━━━\u001b[0m\u001b[37m\u001b[0m \u001b[1m0s\u001b[0m 576us/step - loss: -2816.4189\n",
      "Epoch 8/10\n",
      "\u001b[1m368/368\u001b[0m \u001b[32m━━━━━━━━━━━━━━━━━━━━\u001b[0m\u001b[37m\u001b[0m \u001b[1m0s\u001b[0m 546us/step - loss: -3785.8660\n",
      "Epoch 9/10\n",
      "\u001b[1m368/368\u001b[0m \u001b[32m━━━━━━━━━━━━━━━━━━━━\u001b[0m\u001b[37m\u001b[0m \u001b[1m0s\u001b[0m 548us/step - loss: -4690.9575\n",
      "Epoch 10/10\n",
      "\u001b[1m368/368\u001b[0m \u001b[32m━━━━━━━━━━━━━━━━━━━━\u001b[0m\u001b[37m\u001b[0m \u001b[1m0s\u001b[0m 550us/step - loss: -5620.9136\n",
      "\u001b[1m368/368\u001b[0m \u001b[32m━━━━━━━━━━━━━━━━━━━━\u001b[0m\u001b[37m\u001b[0m \u001b[1m0s\u001b[0m 591us/step\n"
     ]
    }
   ],
   "source": [
    "# auto-encoder \n",
    "\n",
    "import tensorflow as tf\n",
    "from tensorflow.keras.layers import Input, Dense\n",
    "from tensorflow.keras.models import Model\n",
    "from tensorflow.keras.regularizers import l2\n",
    "\n",
    "input_layer = Input(shape=(88,))\n",
    "encoded = Dense(44, activation='relu', kernel_regularizer=l2(0.01))(input_layer)\n",
    "decoded = Dense(88, activation='sigmoid', name='decoded')(encoded)\n",
    "\n",
    "gender_output = Dense(1, activation='sigmoid', name='gender')(encoded)\n",
    "depression_output = Dense(1, name='depression')(encoded)\n",
    "\n",
    "autoencoder = Model(inputs=input_layer, outputs=[decoded, gender_output, depression_output])\n",
    "\n",
    "def negative_binary_crossentropy(y_true, y_pred):\n",
    "    return -tf.keras.losses.binary_crossentropy(y_true, y_pred)\n",
    "def mean_squared_error(y_true, y_pred):\n",
    "    return tf.keras.losses.mean_squared_error(y_true, y_pred)\n",
    "losses = {\n",
    "    'decoded': mean_squared_error,\n",
    "    'gender': negative_binary_crossentropy,\n",
    "    'depression': mean_squared_error,\n",
    "}\n",
    "\n",
    "autoencoder.compile(optimizer='adam', loss=losses)\n",
    "\n",
    "autoencoder.fit(X_train, [X_train, y_train_gender, y_train_depression], epochs=10, batch_size=32)\n",
    "X_train_encoded = autoencoder.predict(X_train)[0]"
   ]
  },
  {
   "cell_type": "code",
   "execution_count": 75,
   "metadata": {
    "ExecuteTime": {
     "end_time": "2024-05-04T19:33:39.597344600Z",
     "start_time": "2024-05-04T19:33:17.814468800Z"
    },
    "collapsed": false,
    "jupyter": {
     "outputs_hidden": false
    }
   },
   "outputs": [
    {
     "name": "stdout",
     "output_type": "stream",
     "text": [
      "Metrics for All participants:\n",
      "Accuracy: 0.70\n",
      "Balanced Accuracy: 0.50\n",
      "True Positive Rate (TPR): 0.00\n",
      "True Negative Rate (TNR): 1.00\n",
      "False Positive Rate (FPR): 0.00\n",
      "False Negative Rate (FNR): 1.00\n",
      "\n",
      "Metrics for Male participants:\n",
      "Accuracy: 0.92\n",
      "Balanced Accuracy: 0.50\n",
      "True Positive Rate (TPR): 0.00\n",
      "True Negative Rate (TNR): 1.00\n",
      "False Positive Rate (FPR): 0.00\n",
      "False Negative Rate (FNR): 1.00\n",
      "\n",
      "Metrics for Female participants:\n",
      "Accuracy: 0.38\n",
      "Balanced Accuracy: 0.50\n",
      "True Positive Rate (TPR): 0.00\n",
      "True Negative Rate (TNR): 1.00\n",
      "False Positive Rate (FPR): 0.00\n",
      "False Negative Rate (FNR): 1.00\n",
      "Equality of Opportunity (EO): 1.00\n"
     ]
    },
    {
     "name": "stderr",
     "output_type": "stream",
     "text": [
      "C:\\Users\\anude\\AppData\\Local\\Programs\\Python\\Python39\\lib\\site-packages\\sklearn\\base.py:486: UserWarning: X has feature names, but RandomForestClassifier was fitted without feature names\n",
      "  warnings.warn(\n"
     ]
    }
   ],
   "source": [
    "model_aer = RandomForestClassifier(random_state=42, class_weight='balanced')\n",
    "model_aer.fit(X_train_encoded, y_train_depression)\n",
    "\n",
    "test_df_temp['prediction']= model_aer.predict(X_test)\n",
    "all_aer, male_aer, female_aer, eo_aer = analyze_results(test_df_temp, 'Depression', threshold=.2)"
   ]
  },
  {
   "cell_type": "code",
   "execution_count": 19,
   "metadata": {
    "ExecuteTime": {
     "end_time": "2024-05-04T19:33:39.903367200Z",
     "start_time": "2024-05-04T19:33:39.599350100Z"
    },
    "collapsed": false,
    "jupyter": {
     "outputs_hidden": false
    }
   },
   "outputs": [
    {
     "data": {
      "image/png": "[encoded data removed]",
      "text/plain": [
       "<Figure size 1200x700 with 1 Axes>"
      ]
     },
     "metadata": {},
     "output_type": "display_data"
    }
   ],
   "source": [
    "vals = {\n",
    "    'all features': [all_metrics_depression['accuracy'], all_metrics_depression['balanced_accuracy'], \n",
    "                     male_metrics['accuracy'], male_metrics['balanced_accuracy'], \n",
    "                     female_metrics['accuracy'], female_metrics['balanced_accuracy'], .6],\n",
    "    'SBR features': [all_sbr['accuracy'], all_sbr['balanced_accuracy'], \n",
    "                     male_sbr['accuracy'], male_sbr['balanced_accuracy'], \n",
    "                     female_sbr['accuracy'], female_sbr['balanced_accuracy'], eo_sbr],\n",
    "    'AER features': [all_aer['accuracy'], all_aer['balanced_accuracy'], \n",
    "                 male_aer['accuracy'], male_aer['balanced_accuracy'], \n",
    "                 female_aer['accuracy'], female_aer['balanced_accuracy'], eo_aer]\n",
    "}\n",
    "bar_graph(vals, measures, 'Depression Classification Metrics With Debiasing')"
   ]
  },
  {
   "cell_type": "markdown",
   "metadata": {
    "collapsed": false,
    "jupyter": {
     "outputs_hidden": false
    }
   },
   "source": [
    "According to the graph, mitigating bias will reduce the accuracy and balanced accuracy of the model. This might be because the model is trained on imbalanced value, so it can get high accuracy by simply predicting the class which has more samples. The accuracy and balanced accuracy on male class, which has more samples, is somehow increased, whereas accuracy and balanced accuracy on female class is decreased. Moreover, the performance of using autoencoder will mostly depend on how well the autoencoder is trained, as in this task, where the autoencoder struggles with reducing losses stably, the final performance changes a lot.  \n",
    "One interesting thing to notice is that after mitigating bias, the EO could reach to 1, which indicates it works to some degree."
   ]
  }
 ],
 "metadata": {
  "kernelspec": {
   "display_name": "Python 3 (ipykernel)",
   "language": "python",
   "name": "python3"
  },
  "language_info": {
   "codemirror_mode": {
    "name": "ipython",
    "version": 3
   },
   "file_extension": ".py",
   "mimetype": "text/x-python",
   "name": "python",
   "nbconvert_exporter": "python",
   "pygments_lexer": "ipython3",
   "version": "3.9.8"
  }
 },
 "nbformat": 4,
 "nbformat_minor": 4
}
