{
 "cells": [
  {
   "cell_type": "code",
   "execution_count": 53,
   "id": "initial_id",
   "metadata": {
    "collapsed": true,
    "ExecuteTime": {
     "end_time": "2024-05-03T20:00:55.575864100Z",
     "start_time": "2024-05-03T20:00:55.516554900Z"
    }
   },
   "outputs": [],
   "source": [
    "import pandas as pd\n",
    "import numpy as np\n",
    "from sklearn.ensemble import RandomForestClassifier\n",
    "from sklearn.metrics import classification_report, accuracy_score, balanced_accuracy_score, confusion_matrix\n",
    "import matplotlib.pyplot as plt"
   ]
  },
  {
   "cell_type": "code",
   "outputs": [],
   "source": [
    "labels_df = pd.read_csv(\"labels.csv\")"
   ],
   "metadata": {
    "collapsed": false,
    "ExecuteTime": {
     "end_time": "2024-05-03T20:00:55.577827500Z",
     "start_time": "2024-05-03T20:00:55.544566Z"
    }
   },
   "id": "2b8a03ce0f484693",
   "execution_count": 54
  },
  {
   "cell_type": "code",
   "outputs": [],
   "source": [
    "def load_features(files, path, labels_df):\n",
    "    dataframes = []\n",
    "    \n",
    "    for file in files:\n",
    "        df = pd.read_csv(f\"{path}/{file}\", header=None)\n",
    "        participant_id = int(file.split(\"_\")[1].split(\".\")[0]) # Get ID from file name\n",
    "        df[\"Participant_ID\"] = participant_id\n",
    "        dataframes.append(df)\n",
    "        \n",
    "    # Combine into a single dataframe\n",
    "    data_df = pd.concat(dataframes)\n",
    "    return data_df.merge(labels_df, on=\"Participant_ID\")\n",
    "color_dict = {\n",
    "    'all features': 'mediumpurple',\n",
    "    'top performing features (depression)': 'darkviolet',\n",
    "    'top perfoming features (gender)': 'plum',\n",
    "    'SBR features': 'indigo',\n",
    "    'AER features': 'plum'\n",
    "}\n",
    "def calculate_accuracy(y_true, y_pred, group, display_results=True):\n",
    "    # Calculate Accuracy\n",
    "    accuracy = accuracy_score(y_true, y_pred)\n",
    "    \n",
    "    # Calculate Balanced Accuracy\n",
    "    balanced_accuracy = balanced_accuracy_score(y_true, y_pred)\n",
    "    \n",
    "    # Extract TP, FP, TN, FN\n",
    "    tn, fp, fn, tp = confusion_matrix(y_true, y_pred).ravel()\n",
    "    \n",
    "    tpr = tp / (tp + fn) # True Positive Rate\n",
    "    tnr = tn / (tn + fp) # True Negative Rate\n",
    "    fpr = fp / (fp + tn) # False Positive Rate\n",
    "    fnr = fn / (fn + tp) # False Negative Rate\n",
    "    \n",
    "    # Store metrics\n",
    "    metrics = {\n",
    "        \"accuracy\": accuracy,\n",
    "        \"balanced_accuracy\": balanced_accuracy,\n",
    "        \"tpr\": tpr,\n",
    "        \"tnr\": tnr,\n",
    "        \"fpr\": fpr,\n",
    "        \"fnr\": fnr\n",
    "    }\n",
    "    if display_results:\n",
    "        print(f\"Metrics for {group}:\")\n",
    "        print(f\"Accuracy: {accuracy:.2f}\")\n",
    "        print(f\"Balanced Accuracy: {balanced_accuracy:.2f}\")\n",
    "        print(f\"True Positive Rate (TPR): {tpr:.2f}\")\n",
    "        print(f\"True Negative Rate (TNR): {tnr:.2f}\")\n",
    "        print(f\"False Positive Rate (FPR): {fpr:.2f}\")\n",
    "        print(f\"False Negative Rate (FNR): {fnr:.2f}\")\n",
    "    \n",
    "    return metrics\n",
    "def analyze_results(y_pred, display_results=True, pred_label='Depression', threshold = 0.05):\n",
    "    test_df_copy = test_df.copy()\n",
    "    test_df_copy[\"predictions\"] = y_pred\n",
    "    # Group by participant and average predictions \n",
    "    participant_predictions = test_df_copy.groupby(\"Participant_ID\")[\"predictions\"].mean()\n",
    "\n",
    "    participant_predictions_binarized = (participant_predictions >= threshold).astype(int)\n",
    "\n",
    "    # Join aggregated predictions back with the depression labels\n",
    "    participant_labels = test_df.groupby(\"Participant_ID\")[pred_label].first()\n",
    "\n",
    "    # Filter data by gender\n",
    "    male_participants = test_df[test_df[\"Gender\"] == 1][\"Participant_ID\"].unique()\n",
    "    female_participants = test_df[test_df[\"Gender\"] == 0][\"Participant_ID\"].unique()\n",
    "\n",
    "    # Calculate accuracies for all, male, and female participants\n",
    "    all_metrics_depression = calculate_accuracy(participant_labels, \n",
    "                                                participant_predictions_binarized, \"All participants\",\n",
    "                                                display_results=display_results)\n",
    "    if display_results:\n",
    "        print(\"\")\n",
    "    male_metrics = calculate_accuracy(participant_labels.loc[male_participants],\n",
    "                                       participant_predictions_binarized.loc[male_participants], \"Male participants\",\n",
    "                                       display_results=display_results)\n",
    "    if display_results:\n",
    "        print(\"\")\n",
    "    female_metrics = calculate_accuracy(participant_labels.loc[female_participants], \n",
    "                                        participant_predictions_binarized.loc[female_participants],\n",
    "                                          \"Female participants\", display_results=display_results)\n",
    "\n",
    "    # Calculate EO\n",
    "    eo = (1 - abs(male_metrics[\"tpr\"] - female_metrics[\"tpr\"]))\n",
    "    if display_results:\n",
    "        print(f\"Equality of Opportunity (EO): {eo:.2f}\")\n",
    "\n",
    "    return all_metrics_depression, male_metrics, female_metrics, eo\n",
    "def bar_graph(vals:dict, measures:list, title:str):\n",
    "    x = np.arange(len(measures))  # the label locations\n",
    "    width = 0.2  # the width of the bars\n",
    "    multiplier = 0\n",
    "\n",
    "    fig, ax = plt.subplots(figsize=(12, 7))\n",
    "    for attribute, measurement in vals.items():\n",
    "        offset = width * multiplier\n",
    "        rects = ax.bar(x + offset, measurement, width, label=attribute, color=color_dict[attribute])\n",
    "        ax.bar_label(rects, padding=5)\n",
    "        multiplier += 1\n",
    "\n",
    "    # Add some text for labels, title and custom x-axis tick labels, etc.\n",
    "    ax.set_ylabel('Accuracy')\n",
    "    ax.set_title(title)\n",
    "    ax.set_xticks(x + width, measures)\n",
    "    ax.legend(loc='upper left', ncols=4)\n",
    "    ax.set_ylim(0, 1)\n",
    "    fig.tight_layout()\n",
    "    plt.show()"
   ],
   "metadata": {
    "collapsed": false,
    "ExecuteTime": {
     "end_time": "2024-05-03T20:12:09.373330Z",
     "start_time": "2024-05-03T20:12:09.363816500Z"
    }
   },
   "id": "50c4371325ff1e7d",
   "execution_count": 70
  },
  {
   "cell_type": "code",
   "outputs": [],
   "source": [
    "train_files = [\"spk_303.csv\", \"spk_304.csv\", \"spk_310.csv\", \"spk_313.csv\", \"spk_316.csv\", \"spk_317.csv\", \"spk_318.csv\", \"spk_319.csv\", \"spk_322.csv\", \"spk_324.csv\", \n",
    "               \"spk_326.csv\", \"spk_327.csv\", \"spk_328.csv\", \"spk_330.csv\", \"spk_333.csv\", \"spk_338.csv\", \"spk_339.csv\", \"spk_340.csv\", \"spk_341.csv\", \"spk_343.csv\", \n",
    "               \"spk_344.csv\", \"spk_345.csv\", \"spk_347.csv\", \"spk_350.csv\", \"spk_351.csv\", \"spk_352.csv\", \"spk_353.csv\", \"spk_356.csv\", \"spk_357.csv\", \"spk_358.csv\", \n",
    "               \"spk_360.csv\", \"spk_364.csv\", \"spk_366.csv\", \"spk_369.csv\", \"spk_370.csv\", \"spk_371.csv\", \"spk_372.csv\", \"spk_374.csv\", \"spk_375.csv\", \"spk_376.csv\", \n",
    "               \"spk_379.csv\", \"spk_380.csv\", \"spk_383.csv\", \"spk_385.csv\", \"spk_386.csv\", \"spk_391.csv\", \"spk_392.csv\", \"spk_397.csv\", \"spk_400.csv\", \"spk_401.csv\", \n",
    "               \"spk_402.csv\", \"spk_409.csv\", \"spk_412.csv\", \"spk_414.csv\", \"spk_416.csv\", \"spk_419.csv\", \"spk_423.csv\", \"spk_425.csv\", \"spk_426.csv\", \"spk_427.csv\", \n",
    "               \"spk_428.csv\", \"spk_429.csv\", \"spk_430.csv\", \"spk_433.csv\", \"spk_441.csv\", \"spk_443.csv\", \"spk_445.csv\", \"spk_447.csv\", \"spk_448.csv\", \"spk_449.csv\", \n",
    "               \"spk_454.csv\", \"spk_455.csv\", \"spk_456.csv\", \"spk_457.csv\", \"spk_459.csv\", \"spk_463.csv\", \"spk_464.csv\", \"spk_468.csv\", \"spk_471.csv\", \"spk_473.csv\", \n",
    "               \"spk_475.csv\", \"spk_478.csv\", \"spk_485.csv\", \"spk_486.csv\", \"spk_487.csv\", \"spk_488.csv\", \"spk_491.csv\"]\n",
    "\n",
    "test_files = [\"spk_305.csv\", \"spk_312.csv\", \"spk_315.csv\", \"spk_320.csv\", \"spk_321.csv\", \"spk_325.csv\", \"spk_336.csv\", \"spk_348.csv\", \"spk_355.csv\", \"spk_362.csv\", \n",
    "              \"spk_363.csv\", \"spk_368.csv\", \"spk_393.csv\", \"spk_415.csv\", \"spk_434.csv\", \"spk_437.csv\", \"spk_444.csv\", \"spk_446.csv\", \"spk_474.csv\", \"spk_479.csv\", ]\n",
    "\n",
    "train_df = load_features(train_files,\"features_train\", labels_df)\n",
    "test_df = load_features(test_files, \"features_test\", labels_df)"
   ],
   "metadata": {
    "collapsed": false,
    "ExecuteTime": {
     "end_time": "2024-05-03T20:00:58.037278200Z",
     "start_time": "2024-05-03T20:00:55.605890900Z"
    }
   },
   "id": "f4e4b7c506e3ab61",
   "execution_count": 56
  },
  {
   "cell_type": "code",
   "outputs": [
    {
     "data": {
      "text/plain": "           0         1          2          3          4         5          6  \\\n0  37.110800  0.016898  36.521458  37.090477  37.525204  1.003746  24.374560   \n1  33.466145  0.081636  30.579086  32.893642  35.499447  4.920361  12.148806   \n2  31.222300  0.035549  30.420216  30.726269  31.939356  1.519140   6.691987   \n3  34.281920  0.031365  32.879463  34.713913  35.204903  2.325439   3.409068   \n4  34.795260  0.018941  34.109280  34.899593  35.433464  1.324184  16.008287   \n\n           7          8         9  ...        81        82     83        84  \\\n0  11.693271  -0.207191  9.438403  ...  6.140351  4.629630  0.142  0.117541   \n1   0.000000  16.623375  0.000000  ...  2.142857  2.222222  0.210  0.072572   \n2   0.000000  23.152794  0.000000  ...  2.941176  1.587302  0.230  0.000000   \n3   0.000000  10.839425  0.000000  ...  3.947368  2.816901  0.180  0.000000   \n4  14.265874  10.287021  6.374829  ...  4.000000  2.040816  0.272  0.109435   \n\n         85        86         87  Participant_ID  Depression  Gender  \n0  0.070000  0.027386 -39.496513             303           0       0  \n1  0.162500  0.084963 -40.960510             303           0       0  \n2  0.185000  0.065000 -42.518540             303           0       0  \n3  0.100000  0.024495 -44.036240             303           0       0  \n4  0.163333  0.170945 -42.155136             303           0       0  \n\n[5 rows x 91 columns]",
      "text/html": "<div>\n<style scoped>\n    .dataframe tbody tr th:only-of-type {\n        vertical-align: middle;\n    }\n\n    .dataframe tbody tr th {\n        vertical-align: top;\n    }\n\n    .dataframe thead th {\n        text-align: right;\n    }\n</style>\n<table border=\"1\" class=\"dataframe\">\n  <thead>\n    <tr style=\"text-align: right;\">\n      <th></th>\n      <th>0</th>\n      <th>1</th>\n      <th>2</th>\n      <th>3</th>\n      <th>4</th>\n      <th>5</th>\n      <th>6</th>\n      <th>7</th>\n      <th>8</th>\n      <th>9</th>\n      <th>...</th>\n      <th>81</th>\n      <th>82</th>\n      <th>83</th>\n      <th>84</th>\n      <th>85</th>\n      <th>86</th>\n      <th>87</th>\n      <th>Participant_ID</th>\n      <th>Depression</th>\n      <th>Gender</th>\n    </tr>\n  </thead>\n  <tbody>\n    <tr>\n      <th>0</th>\n      <td>37.110800</td>\n      <td>0.016898</td>\n      <td>36.521458</td>\n      <td>37.090477</td>\n      <td>37.525204</td>\n      <td>1.003746</td>\n      <td>24.374560</td>\n      <td>11.693271</td>\n      <td>-0.207191</td>\n      <td>9.438403</td>\n      <td>...</td>\n      <td>6.140351</td>\n      <td>4.629630</td>\n      <td>0.142</td>\n      <td>0.117541</td>\n      <td>0.070000</td>\n      <td>0.027386</td>\n      <td>-39.496513</td>\n      <td>303</td>\n      <td>0</td>\n      <td>0</td>\n    </tr>\n    <tr>\n      <th>1</th>\n      <td>33.466145</td>\n      <td>0.081636</td>\n      <td>30.579086</td>\n      <td>32.893642</td>\n      <td>35.499447</td>\n      <td>4.920361</td>\n      <td>12.148806</td>\n      <td>0.000000</td>\n      <td>16.623375</td>\n      <td>0.000000</td>\n      <td>...</td>\n      <td>2.142857</td>\n      <td>2.222222</td>\n      <td>0.210</td>\n      <td>0.072572</td>\n      <td>0.162500</td>\n      <td>0.084963</td>\n      <td>-40.960510</td>\n      <td>303</td>\n      <td>0</td>\n      <td>0</td>\n    </tr>\n    <tr>\n      <th>2</th>\n      <td>31.222300</td>\n      <td>0.035549</td>\n      <td>30.420216</td>\n      <td>30.726269</td>\n      <td>31.939356</td>\n      <td>1.519140</td>\n      <td>6.691987</td>\n      <td>0.000000</td>\n      <td>23.152794</td>\n      <td>0.000000</td>\n      <td>...</td>\n      <td>2.941176</td>\n      <td>1.587302</td>\n      <td>0.230</td>\n      <td>0.000000</td>\n      <td>0.185000</td>\n      <td>0.065000</td>\n      <td>-42.518540</td>\n      <td>303</td>\n      <td>0</td>\n      <td>0</td>\n    </tr>\n    <tr>\n      <th>3</th>\n      <td>34.281920</td>\n      <td>0.031365</td>\n      <td>32.879463</td>\n      <td>34.713913</td>\n      <td>35.204903</td>\n      <td>2.325439</td>\n      <td>3.409068</td>\n      <td>0.000000</td>\n      <td>10.839425</td>\n      <td>0.000000</td>\n      <td>...</td>\n      <td>3.947368</td>\n      <td>2.816901</td>\n      <td>0.180</td>\n      <td>0.000000</td>\n      <td>0.100000</td>\n      <td>0.024495</td>\n      <td>-44.036240</td>\n      <td>303</td>\n      <td>0</td>\n      <td>0</td>\n    </tr>\n    <tr>\n      <th>4</th>\n      <td>34.795260</td>\n      <td>0.018941</td>\n      <td>34.109280</td>\n      <td>34.899593</td>\n      <td>35.433464</td>\n      <td>1.324184</td>\n      <td>16.008287</td>\n      <td>14.265874</td>\n      <td>10.287021</td>\n      <td>6.374829</td>\n      <td>...</td>\n      <td>4.000000</td>\n      <td>2.040816</td>\n      <td>0.272</td>\n      <td>0.109435</td>\n      <td>0.163333</td>\n      <td>0.170945</td>\n      <td>-42.155136</td>\n      <td>303</td>\n      <td>0</td>\n      <td>0</td>\n    </tr>\n  </tbody>\n</table>\n<p>5 rows × 91 columns</p>\n</div>"
     },
     "execution_count": 57,
     "metadata": {},
     "output_type": "execute_result"
    }
   ],
   "source": [
    "train_df.head()"
   ],
   "metadata": {
    "collapsed": false,
    "ExecuteTime": {
     "end_time": "2024-05-03T20:00:58.061150900Z",
     "start_time": "2024-05-03T20:00:58.049459100Z"
    }
   },
   "id": "827d465b2b201069",
   "execution_count": 57
  },
  {
   "cell_type": "code",
   "outputs": [],
   "source": [
    "# Handle missing values\n",
    "train_df.fillna(train_df.mean(), inplace=True)\n",
    "test_df.fillna(test_df.mean(), inplace=True)\n",
    "\n",
    "# Separate features and labels\n",
    "X_train = train_df.drop([\"Participant_ID\", \"Depression\", \"Gender\"], axis=1)\n",
    "y_train_depression = train_df[\"Depression\"]\n",
    "y_train_gender = train_df[\"Gender\"]\n",
    "\n",
    "X_test = test_df.drop([\"Participant_ID\", \"Depression\", \"Gender\"], axis=1)\n",
    "y_test_depression = test_df[\"Depression\"]\n",
    "y_test_gender = test_df[\"Gender\"]"
   ],
   "metadata": {
    "collapsed": false,
    "ExecuteTime": {
     "end_time": "2024-05-03T20:00:58.148927800Z",
     "start_time": "2024-05-03T20:00:58.057153100Z"
    }
   },
   "id": "110b3d581a1b9eeb",
   "execution_count": 58
  },
  {
   "cell_type": "code",
   "outputs": [],
   "source": [
    "# def calculate_accuracy(y_true, y_pred, gender):\n",
    "# \n",
    "#     accuracy = accuracy_score(y_true, y_pred)\n",
    "#     balanced_accuracy = balanced_accuracy_score(y_true, y_pred)\n",
    "#     tn, fp, fn, tp = confusion_matrix(y_true, y_pred).ravel()\n",
    "#     \n",
    "#     tpr = tp / (tp + fn) # True Positive Rate\n",
    "#     tnr = tn / (tn + fp) # True Negative Rate\n",
    "#     fpr = fp / (fp + tn) # False Positive Rate\n",
    "#     fnr = fn / (fn + tp) # False Negative Rate\n",
    "#     \n",
    "#     metrics = {\n",
    "#         \"accuracy\": accuracy,\n",
    "#         \"balanced_accuracy\": balanced_accuracy,\n",
    "#         \"tpr\": tpr,\n",
    "#         \"tnr\": tnr,\n",
    "#         \"fpr\": fpr,\n",
    "#         \"fnr\": fnr\n",
    "#     }\n",
    "#     \n",
    "#     print(f\"Metrics for {gender}:\")\n",
    "#     print(f\"Accuracy: {accuracy:.2f}\")\n",
    "#     print(f\"Balanced Accuracy: {balanced_accuracy:.2f}\")\n",
    "#     print(f\"True Positive Rate (TPR): {tpr:.2f}\")\n",
    "#     print(f\"True Negative Rate (TNR): {tnr:.2f}\")\n",
    "#     print(f\"False Positive Rate (FPR): {fpr:.2f}\")\n",
    "#     print(f\"False Negative Rate (FNR): {fnr:.2f}\")\n",
    "#     \n",
    "#     return metrics\n",
    "# def metrics(y_pred, threshold):\n",
    "#     test_df_depression = test_df.copy()\n",
    "#     test_df_depression[\"predictions\"] = y_pred\n",
    "# \n",
    "#     participant_predictions_depression = test_df_depression.groupby(\"Participant_ID\")[\"predictions\"].mean()\n",
    "#     participant_predictions_depression_binarized = (participant_predictions_depression >= threshold).astype(int)\n",
    "#     participant_labels_depression = test_df_depression.groupby(\"Participant_ID\")[\"Depression\"].first()\n",
    "#     male_participants = test_df_depression[test_df_depression[\"Gender\"] == 1][\"Participant_ID\"].unique()\n",
    "#     female_participants = test_df_depression[test_df_depression[\"Gender\"] == 0][\"Participant_ID\"].unique()\n",
    "#     \n",
    "#     all_metrics_depression = calculate_accuracy(participant_labels_depression, participant_predictions_depression_binarized, \"All participants\")\n",
    "#     print(\"\")\n",
    "#     male_metrics = calculate_accuracy(participant_labels_depression.loc[male_participants], participant_predictions_depression_binarized.loc[male_participants], \"Male participants\")\n",
    "#     print(\"\")\n",
    "#     female_metrics = calculate_accuracy(participant_labels_depression.loc[female_participants], participant_predictions_depression_binarized.loc[female_participants], \"Female participants\")\n",
    "#     \n",
    "#     eo = (1 - abs(male_metrics[\"tpr\"] - female_metrics[\"tpr\"]))\n",
    "#     print(f\"Equality of Opportunity (EO): {eo:.2f}\")\n",
    "#     return all_metrics_depression, male_metrics, female_metrics, eo"
   ],
   "metadata": {
    "collapsed": false,
    "ExecuteTime": {
     "end_time": "2024-05-03T20:00:58.179950800Z",
     "start_time": "2024-05-03T20:00:58.114921500Z"
    }
   },
   "id": "5828542586495abf",
   "execution_count": 59
  },
  {
   "cell_type": "code",
   "outputs": [
    {
     "name": "stdout",
     "output_type": "stream",
     "text": [
      "              precision    recall  f1-score   support\n",
      "\n",
      "           0       0.80      0.92      0.85      2615\n",
      "           1       0.22      0.09      0.13       665\n",
      "\n",
      "    accuracy                           0.75      3280\n",
      "   macro avg       0.51      0.50      0.49      3280\n",
      "weighted avg       0.68      0.75      0.71      3280\n"
     ]
    }
   ],
   "source": [
    "# Depression Classification\n",
    "model = RandomForestClassifier(random_state=42, class_weight='balanced')\n",
    "model.fit(X_train, y_train_depression)\n",
    "\n",
    "y_pred = model.predict(X_test)\n",
    "print(classification_report(y_test_depression, y_pred))\n",
    "all, male, female, eo = metrics(y_pred, 0.15)"
   ],
   "metadata": {
    "collapsed": false,
    "ExecuteTime": {
     "end_time": "2024-05-03T20:01:37.437778300Z",
     "start_time": "2024-05-03T20:00:58.127927700Z"
    }
   },
   "id": "343ab59eb1cccae7",
   "execution_count": 60
  },
  {
   "cell_type": "code",
   "outputs": [
    {
     "name": "stdout",
     "output_type": "stream",
     "text": [
      "Gender\n",
      "1    8177\n",
      "0    5449\n",
      "Name: count, dtype: int64\n"
     ]
    }
   ],
   "source": [
    "# sample based reweight\n",
    "\n",
    "samples_per_gender = train_df['Gender'].value_counts()\n",
    "total_samples = len(train_df)\n",
    "inverse_representation = total_samples / samples_per_gender\n",
    "print(samples_per_gender)\n",
    "\n",
    "train_df_weights = train_df.copy()\n",
    "train_df_weights['weights'] = train_df['Gender'].map(inverse_representation)\n",
    "reweights = train_df_weights['weights']"
   ],
   "metadata": {
    "collapsed": false,
    "ExecuteTime": {
     "end_time": "2024-05-03T20:01:37.479979800Z",
     "start_time": "2024-05-03T20:01:37.449687900Z"
    }
   },
   "id": "67667717a2700275",
   "execution_count": 62
  },
  {
   "cell_type": "code",
   "outputs": [
    {
     "name": "stdout",
     "output_type": "stream",
     "text": [
      "Metrics for All participants:\n",
      "Accuracy: 0.55\n",
      "Balanced Accuracy: 0.58\n",
      "True Positive Rate (TPR): 0.67\n",
      "True Negative Rate (TNR): 0.50\n",
      "False Positive Rate (FPR): 0.50\n",
      "False Negative Rate (FNR): 0.33\n",
      "\n",
      "Metrics for Male participants:\n",
      "Accuracy: 0.58\n",
      "Balanced Accuracy: 0.77\n",
      "True Positive Rate (TPR): 1.00\n",
      "True Negative Rate (TNR): 0.55\n",
      "False Positive Rate (FPR): 0.45\n",
      "False Negative Rate (FNR): 0.00\n",
      "\n",
      "Metrics for Female participants:\n",
      "Accuracy: 0.50\n",
      "Balanced Accuracy: 0.47\n",
      "True Positive Rate (TPR): 0.60\n",
      "True Negative Rate (TNR): 0.33\n",
      "False Positive Rate (FPR): 0.67\n",
      "False Negative Rate (FNR): 0.40\n",
      "Equality of Opportunity (EO): 0.60\n"
     ]
    }
   ],
   "source": [
    "model_sbr = RandomForestClassifier(random_state=42, class_weight='balanced')\n",
    "model_sbr.fit(X_train, y_train_depression, sample_weight=reweights)\n",
    "\n",
    "y_pred_sbr = model_sbr.predict(X_test)\n",
    "all_sbr, male_sbr, female_sbr, eo_sbr = analyze_results(y_pred_sbr)"
   ],
   "metadata": {
    "collapsed": false,
    "ExecuteTime": {
     "end_time": "2024-05-03T20:13:00.374736500Z",
     "start_time": "2024-05-03T20:12:17.397079600Z"
    }
   },
   "id": "77a2ef3809d4532e",
   "execution_count": 71
  },
  {
   "cell_type": "code",
   "outputs": [
    {
     "name": "stdout",
     "output_type": "stream",
     "text": [
      "Epoch 1/10\n",
      "426/426 [==============================] - 2s 1ms/step - loss: 170505.0156 - decoded_loss: 163712.9219 - gender_loss: -1419.2572 - depression_loss: 8210.9307\n",
      "Epoch 2/10\n",
      "426/426 [==============================] - 1s 1ms/step - loss: 156109.3438 - decoded_loss: 163703.3750 - gender_loss: -9808.4336 - depression_loss: 2213.6072\n",
      "Epoch 3/10\n",
      "426/426 [==============================] - 1s 1ms/step - loss: 123358.6250 - decoded_loss: 163703.3906 - gender_loss: -40648.6602 - depression_loss: 302.2557\n",
      "Epoch 4/10\n",
      "426/426 [==============================] - 1s 1ms/step - loss: 48834.9492 - decoded_loss: 163703.2969 - gender_loss: -115388.3438 - depression_loss: 515.6696\n",
      "Epoch 5/10\n",
      "426/426 [==============================] - 1s 1ms/step - loss: -74327.0547 - decoded_loss: 163703.2969 - gender_loss: -238830.3750 - depression_loss: 790.5599\n",
      "Epoch 6/10\n",
      "426/426 [==============================] - 1s 1ms/step - loss: -243915.1719 - decoded_loss: 163703.2812 - gender_loss: -407943.7812 - depression_loss: 308.2515\n",
      "Epoch 7/10\n",
      "426/426 [==============================] - 1s 1ms/step - loss: -459751.3125 - decoded_loss: 163703.2812 - gender_loss: -624634.6875 - depression_loss: 1151.7528\n",
      "Epoch 8/10\n",
      "426/426 [==============================] - 1s 1ms/step - loss: -704215.7500 - decoded_loss: 163703.2656 - gender_loss: -869006.5625 - depression_loss: 1045.5887\n",
      "Epoch 9/10\n",
      "426/426 [==============================] - 1s 1ms/step - loss: -973417.3750 - decoded_loss: 163703.3750 - gender_loss: -1141790.3750 - depression_loss: 4613.3872\n",
      "Epoch 10/10\n",
      "426/426 [==============================] - 1s 1ms/step - loss: -1271136.8750 - decoded_loss: 163703.4062 - gender_loss: -1436200.6250 - depression_loss: 1287.9313\n",
      "426/426 [==============================] - 1s 1ms/step\n"
     ]
    }
   ],
   "source": [
    "# auto-encoder reweight\n",
    "\n",
    "import tensorflow as tf\n",
    "from tensorflow.keras.layers import Input, Dense\n",
    "from tensorflow.keras.models import Model\n",
    "from tensorflow.keras.regularizers import l2\n",
    "\n",
    "input_layer = Input(shape=(88,))\n",
    "encoded = Dense(44, activation='relu', kernel_regularizer=l2(0.01))(input_layer)\n",
    "decoded = Dense(88, activation='sigmoid', name='decoded')(encoded)\n",
    "\n",
    "gender_output = Dense(1, activation='sigmoid', name='gender')(encoded)\n",
    "depression_output = Dense(1, name='depression')(encoded)\n",
    "\n",
    "autoencoder = Model(inputs=input_layer, outputs=[decoded, gender_output, depression_output])\n",
    "\n",
    "def negative_binary_crossentropy(y_true, y_pred):\n",
    "    return -tf.keras.losses.binary_crossentropy(y_true, y_pred)\n",
    "def mean_squared_error(y_true, y_pred):\n",
    "    return tf.keras.losses.mean_squared_error(y_true, y_pred)\n",
    "losses = {\n",
    "    'decoded': mean_squared_error,\n",
    "    'gender': negative_binary_crossentropy,\n",
    "    'depression': mean_squared_error,\n",
    "}\n",
    "\n",
    "autoencoder.compile(optimizer='adam', loss=losses)\n",
    "\n",
    "autoencoder.fit(X_train, [X_train, y_train_gender, y_train_depression], epochs=10, batch_size=32)\n",
    "X_train_encoded = autoencoder.predict(X_train)[0]"
   ],
   "metadata": {
    "collapsed": false,
    "ExecuteTime": {
     "end_time": "2024-05-03T20:24:56.925003800Z",
     "start_time": "2024-05-03T20:24:49.155973500Z"
    }
   },
   "id": "a17e05f651ec959a",
   "execution_count": 85
  },
  {
   "cell_type": "code",
   "outputs": [
    {
     "name": "stdout",
     "output_type": "stream",
     "text": [
      "Metrics for All participants:\n",
      "Accuracy: 0.35\n",
      "Balanced Accuracy: 0.54\n",
      "True Positive Rate (TPR): 1.00\n",
      "True Negative Rate (TNR): 0.07\n",
      "False Positive Rate (FPR): 0.93\n",
      "False Negative Rate (FNR): 0.00\n",
      "\n",
      "Metrics for Male participants:\n",
      "Accuracy: 0.17\n",
      "Balanced Accuracy: 0.55\n",
      "True Positive Rate (TPR): 1.00\n",
      "True Negative Rate (TNR): 0.09\n",
      "False Positive Rate (FPR): 0.91\n",
      "False Negative Rate (FNR): 0.00\n",
      "\n",
      "Metrics for Female participants:\n",
      "Accuracy: 0.62\n",
      "Balanced Accuracy: 0.50\n",
      "True Positive Rate (TPR): 1.00\n",
      "True Negative Rate (TNR): 0.00\n",
      "False Positive Rate (FPR): 1.00\n",
      "False Negative Rate (FNR): 0.00\n",
      "Equality of Opportunity (EO): 1.00\n"
     ]
    }
   ],
   "source": [
    "model_aer = RandomForestClassifier(random_state=42, class_weight='balanced')\n",
    "model_aer.fit(X_train_encoded, y_train_depression)\n",
    "\n",
    "y_pred_aer = model_aer.predict(X_test)\n",
    "all_aer, male_aer, female_aer, eo_aer = analyze_results(y_pred_aer)"
   ],
   "metadata": {
    "collapsed": false,
    "ExecuteTime": {
     "end_time": "2024-05-03T20:24:59.233787700Z",
     "start_time": "2024-05-03T20:24:58.511860400Z"
    }
   },
   "id": "c50f7f981a09433e",
   "execution_count": 86
  },
  {
   "cell_type": "code",
   "outputs": [
    {
     "data": {
      "text/plain": "<Figure size 1200x700 with 1 Axes>",
      "image/png": "[encoded data removed]"
     },
     "metadata": {},
     "output_type": "display_data"
    }
   ],
   "source": [
    "measures = ['Acc', 'BCA', 'Male Acc', 'Male BCA', 'Female Acc', 'Female BCA', 'EO']\n",
    "vals = {\n",
    "    'all features': [all['accuracy'], all['balanced_accuracy'], \n",
    "                     male['accuracy'], male['balanced_accuracy'], \n",
    "                     female['accuracy'], female['balanced_accuracy'], .6],\n",
    "    'SBR features': [all_sbr['accuracy'], all_sbr['balanced_accuracy'], \n",
    "                     male_sbr['accuracy'], male_sbr['balanced_accuracy'], \n",
    "                     female_sbr['accuracy'], female_sbr['balanced_accuracy'], eo_sbr],\n",
    "    'AER features': [all_aer['accuracy'], all_aer['balanced_accuracy'], \n",
    "                 male_aer['accuracy'], male_aer['balanced_accuracy'], \n",
    "                 female_aer['accuracy'], female_aer['balanced_accuracy'], eo_aer]\n",
    "}\n",
    "bar_graph(vals, measures, 'Depression Classification Metrics With Debiasing')"
   ],
   "metadata": {
    "collapsed": false,
    "ExecuteTime": {
     "end_time": "2024-05-03T20:24:59.492077400Z",
     "start_time": "2024-05-03T20:24:59.235787700Z"
    }
   },
   "id": "37bee71361415ec3",
   "execution_count": 87
  }
 ],
 "metadata": {
  "kernelspec": {
   "display_name": "Python 3",
   "language": "python",
   "name": "python3"
  },
  "language_info": {
   "codemirror_mode": {
    "name": "ipython",
    "version": 2
   },
   "file_extension": ".py",
   "mimetype": "text/x-python",
   "name": "python",
   "nbconvert_exporter": "python",
   "pygments_lexer": "ipython2",
   "version": "2.7.6"
  }
 },
 "nbformat": 4,
 "nbformat_minor": 5
}
