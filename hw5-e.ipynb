{
 "cells": [
  {
   "cell_type": "code",
   "execution_count": 1,
   "id": "initial_id",
   "metadata": {
    "collapsed": true,
    "ExecuteTime": {
     "end_time": "2024-05-01T06:08:55.550807500Z",
     "start_time": "2024-05-01T06:08:52.333111500Z"
    }
   },
   "outputs": [],
   "source": [
    "import pandas as pd\n",
    "import numpy as np\n",
    "from sklearn.ensemble import RandomForestClassifier\n",
    "from sklearn.metrics import classification_report, accuracy_score, balanced_accuracy_score, confusion_matrix\n",
    "import matplotlib.pyplot as plt"
   ]
  },
  {
   "cell_type": "code",
   "outputs": [],
   "source": [
    "labels_df = pd.read_csv(\"data/labels.csv\")"
   ],
   "metadata": {
    "collapsed": false,
    "ExecuteTime": {
     "end_time": "2024-05-01T06:08:55.592220Z",
     "start_time": "2024-05-01T06:08:55.561352900Z"
    }
   },
   "id": "2b8a03ce0f484693",
   "execution_count": 2
  },
  {
   "cell_type": "code",
   "outputs": [],
   "source": [
    "def load_features(files, path, labels_df):\n",
    "    dataframes = []\n",
    "    \n",
    "    for file in files:\n",
    "        df = pd.read_csv(f\"{path}/{file}\", header=None)\n",
    "        participant_id = int(file.split(\"_\")[1].split(\".\")[0]) # Get ID from file name\n",
    "        df[\"Participant_ID\"] = participant_id\n",
    "        dataframes.append(df)\n",
    "        \n",
    "    # Combine into a single dataframe\n",
    "    data_df = pd.concat(dataframes)\n",
    "    return data_df.merge(labels_df, on=\"Participant_ID\")"
   ],
   "metadata": {
    "collapsed": false,
    "ExecuteTime": {
     "end_time": "2024-05-01T06:08:55.593236100Z",
     "start_time": "2024-05-01T06:08:55.584711500Z"
    }
   },
   "id": "50c4371325ff1e7d",
   "execution_count": 3
  },
  {
   "cell_type": "code",
   "outputs": [],
   "source": [
    "train_files = [\"spk_303.csv\", \"spk_304.csv\", \"spk_310.csv\", \"spk_313.csv\", \"spk_316.csv\", \"spk_317.csv\", \"spk_318.csv\", \"spk_319.csv\", \"spk_322.csv\", \"spk_324.csv\", \n",
    "               \"spk_326.csv\", \"spk_327.csv\", \"spk_328.csv\", \"spk_330.csv\", \"spk_333.csv\", \"spk_338.csv\", \"spk_339.csv\", \"spk_340.csv\", \"spk_341.csv\", \"spk_343.csv\", \n",
    "               \"spk_344.csv\", \"spk_345.csv\", \"spk_347.csv\", \"spk_350.csv\", \"spk_351.csv\", \"spk_352.csv\", \"spk_353.csv\", \"spk_356.csv\", \"spk_357.csv\", \"spk_358.csv\", \n",
    "               \"spk_360.csv\", \"spk_364.csv\", \"spk_366.csv\", \"spk_369.csv\", \"spk_370.csv\", \"spk_371.csv\", \"spk_372.csv\", \"spk_374.csv\", \"spk_375.csv\", \"spk_376.csv\", \n",
    "               \"spk_379.csv\", \"spk_380.csv\", \"spk_383.csv\", \"spk_385.csv\", \"spk_386.csv\", \"spk_391.csv\", \"spk_392.csv\", \"spk_397.csv\", \"spk_400.csv\", \"spk_401.csv\", \n",
    "               \"spk_402.csv\", \"spk_409.csv\", \"spk_412.csv\", \"spk_414.csv\", \"spk_416.csv\", \"spk_419.csv\", \"spk_423.csv\", \"spk_425.csv\", \"spk_426.csv\", \"spk_427.csv\", \n",
    "               \"spk_428.csv\", \"spk_429.csv\", \"spk_430.csv\", \"spk_433.csv\", \"spk_441.csv\", \"spk_443.csv\", \"spk_445.csv\", \"spk_447.csv\", \"spk_448.csv\", \"spk_449.csv\", \n",
    "               \"spk_454.csv\", \"spk_455.csv\", \"spk_456.csv\", \"spk_457.csv\", \"spk_459.csv\", \"spk_463.csv\", \"spk_464.csv\", \"spk_468.csv\", \"spk_471.csv\", \"spk_473.csv\", \n",
    "               \"spk_475.csv\", \"spk_478.csv\", \"spk_485.csv\", \"spk_486.csv\", \"spk_487.csv\", \"spk_488.csv\", \"spk_491.csv\"]\n",
    "\n",
    "test_files = [\"spk_305.csv\", \"spk_312.csv\", \"spk_315.csv\", \"spk_320.csv\", \"spk_321.csv\", \"spk_325.csv\", \"spk_336.csv\", \"spk_348.csv\", \"spk_355.csv\", \"spk_362.csv\", \n",
    "              \"spk_363.csv\", \"spk_368.csv\", \"spk_393.csv\", \"spk_415.csv\", \"spk_434.csv\", \"spk_437.csv\", \"spk_444.csv\", \"spk_446.csv\", \"spk_474.csv\", \"spk_479.csv\", ]\n",
    "\n",
    "train_df = load_features(train_files,\"data/features_train/features_train\", labels_df)\n",
    "test_df = load_features(test_files, \"data/features_test\", labels_df)"
   ],
   "metadata": {
    "collapsed": false,
    "ExecuteTime": {
     "end_time": "2024-05-01T06:08:56.514669800Z",
     "start_time": "2024-05-01T06:08:55.597232900Z"
    }
   },
   "id": "f4e4b7c506e3ab61",
   "execution_count": 4
  },
  {
   "cell_type": "code",
   "outputs": [
    {
     "data": {
      "text/plain": "           0         1          2          3          4         5          6  \\\n0  37.110800  0.016898  36.521458  37.090477  37.525204  1.003746  24.374560   \n1  33.466145  0.081636  30.579086  32.893642  35.499447  4.920361  12.148806   \n2  31.222300  0.035549  30.420216  30.726269  31.939356  1.519140   6.691987   \n3  34.281920  0.031365  32.879463  34.713913  35.204903  2.325439   3.409068   \n4  34.795260  0.018941  34.109280  34.899593  35.433464  1.324184  16.008287   \n\n           7          8         9  ...        81        82     83        84  \\\n0  11.693271  -0.207191  9.438403  ...  6.140351  4.629630  0.142  0.117541   \n1   0.000000  16.623375  0.000000  ...  2.142857  2.222222  0.210  0.072572   \n2   0.000000  23.152794  0.000000  ...  2.941176  1.587302  0.230  0.000000   \n3   0.000000  10.839425  0.000000  ...  3.947368  2.816901  0.180  0.000000   \n4  14.265874  10.287021  6.374829  ...  4.000000  2.040816  0.272  0.109435   \n\n         85        86         87  Participant_ID  Depression  Gender  \n0  0.070000  0.027386 -39.496513             303           0       0  \n1  0.162500  0.084963 -40.960510             303           0       0  \n2  0.185000  0.065000 -42.518540             303           0       0  \n3  0.100000  0.024495 -44.036240             303           0       0  \n4  0.163333  0.170945 -42.155136             303           0       0  \n\n[5 rows x 91 columns]",
      "text/html": "<div>\n<style scoped>\n    .dataframe tbody tr th:only-of-type {\n        vertical-align: middle;\n    }\n\n    .dataframe tbody tr th {\n        vertical-align: top;\n    }\n\n    .dataframe thead th {\n        text-align: right;\n    }\n</style>\n<table border=\"1\" class=\"dataframe\">\n  <thead>\n    <tr style=\"text-align: right;\">\n      <th></th>\n      <th>0</th>\n      <th>1</th>\n      <th>2</th>\n      <th>3</th>\n      <th>4</th>\n      <th>5</th>\n      <th>6</th>\n      <th>7</th>\n      <th>8</th>\n      <th>9</th>\n      <th>...</th>\n      <th>81</th>\n      <th>82</th>\n      <th>83</th>\n      <th>84</th>\n      <th>85</th>\n      <th>86</th>\n      <th>87</th>\n      <th>Participant_ID</th>\n      <th>Depression</th>\n      <th>Gender</th>\n    </tr>\n  </thead>\n  <tbody>\n    <tr>\n      <th>0</th>\n      <td>37.110800</td>\n      <td>0.016898</td>\n      <td>36.521458</td>\n      <td>37.090477</td>\n      <td>37.525204</td>\n      <td>1.003746</td>\n      <td>24.374560</td>\n      <td>11.693271</td>\n      <td>-0.207191</td>\n      <td>9.438403</td>\n      <td>...</td>\n      <td>6.140351</td>\n      <td>4.629630</td>\n      <td>0.142</td>\n      <td>0.117541</td>\n      <td>0.070000</td>\n      <td>0.027386</td>\n      <td>-39.496513</td>\n      <td>303</td>\n      <td>0</td>\n      <td>0</td>\n    </tr>\n    <tr>\n      <th>1</th>\n      <td>33.466145</td>\n      <td>0.081636</td>\n      <td>30.579086</td>\n      <td>32.893642</td>\n      <td>35.499447</td>\n      <td>4.920361</td>\n      <td>12.148806</td>\n      <td>0.000000</td>\n      <td>16.623375</td>\n      <td>0.000000</td>\n      <td>...</td>\n      <td>2.142857</td>\n      <td>2.222222</td>\n      <td>0.210</td>\n      <td>0.072572</td>\n      <td>0.162500</td>\n      <td>0.084963</td>\n      <td>-40.960510</td>\n      <td>303</td>\n      <td>0</td>\n      <td>0</td>\n    </tr>\n    <tr>\n      <th>2</th>\n      <td>31.222300</td>\n      <td>0.035549</td>\n      <td>30.420216</td>\n      <td>30.726269</td>\n      <td>31.939356</td>\n      <td>1.519140</td>\n      <td>6.691987</td>\n      <td>0.000000</td>\n      <td>23.152794</td>\n      <td>0.000000</td>\n      <td>...</td>\n      <td>2.941176</td>\n      <td>1.587302</td>\n      <td>0.230</td>\n      <td>0.000000</td>\n      <td>0.185000</td>\n      <td>0.065000</td>\n      <td>-42.518540</td>\n      <td>303</td>\n      <td>0</td>\n      <td>0</td>\n    </tr>\n    <tr>\n      <th>3</th>\n      <td>34.281920</td>\n      <td>0.031365</td>\n      <td>32.879463</td>\n      <td>34.713913</td>\n      <td>35.204903</td>\n      <td>2.325439</td>\n      <td>3.409068</td>\n      <td>0.000000</td>\n      <td>10.839425</td>\n      <td>0.000000</td>\n      <td>...</td>\n      <td>3.947368</td>\n      <td>2.816901</td>\n      <td>0.180</td>\n      <td>0.000000</td>\n      <td>0.100000</td>\n      <td>0.024495</td>\n      <td>-44.036240</td>\n      <td>303</td>\n      <td>0</td>\n      <td>0</td>\n    </tr>\n    <tr>\n      <th>4</th>\n      <td>34.795260</td>\n      <td>0.018941</td>\n      <td>34.109280</td>\n      <td>34.899593</td>\n      <td>35.433464</td>\n      <td>1.324184</td>\n      <td>16.008287</td>\n      <td>14.265874</td>\n      <td>10.287021</td>\n      <td>6.374829</td>\n      <td>...</td>\n      <td>4.000000</td>\n      <td>2.040816</td>\n      <td>0.272</td>\n      <td>0.109435</td>\n      <td>0.163333</td>\n      <td>0.170945</td>\n      <td>-42.155136</td>\n      <td>303</td>\n      <td>0</td>\n      <td>0</td>\n    </tr>\n  </tbody>\n</table>\n<p>5 rows × 91 columns</p>\n</div>"
     },
     "execution_count": 5,
     "metadata": {},
     "output_type": "execute_result"
    }
   ],
   "source": [
    "train_df.head()"
   ],
   "metadata": {
    "collapsed": false,
    "ExecuteTime": {
     "end_time": "2024-05-01T06:08:56.593330500Z",
     "start_time": "2024-05-01T06:08:56.534212800Z"
    }
   },
   "id": "827d465b2b201069",
   "execution_count": 5
  },
  {
   "cell_type": "code",
   "outputs": [],
   "source": [
    "# Handle missing values\n",
    "train_df.fillna(train_df.mean(), inplace=True)\n",
    "test_df.fillna(test_df.mean(), inplace=True)\n",
    "\n",
    "# Separate features and labels\n",
    "X_train = train_df.drop([\"Participant_ID\", \"Depression\", \"Gender\"], axis=1)\n",
    "y_train_depression = train_df[\"Depression\"]\n",
    "y_train_gender = train_df[\"Gender\"]\n",
    "\n",
    "X_test = test_df.drop([\"Participant_ID\", \"Depression\", \"Gender\"], axis=1)\n",
    "y_test_depression = test_df[\"Depression\"]\n",
    "y_test_gender = test_df[\"Gender\"]"
   ],
   "metadata": {
    "collapsed": false,
    "ExecuteTime": {
     "end_time": "2024-05-01T06:08:56.798323900Z",
     "start_time": "2024-05-01T06:08:56.579316100Z"
    }
   },
   "id": "110b3d581a1b9eeb",
   "execution_count": 6
  },
  {
   "cell_type": "code",
   "outputs": [],
   "source": [
    "def calculate_accuracy(y_true, y_pred, gender):\n",
    "\n",
    "    accuracy = accuracy_score(y_true, y_pred)\n",
    "    balanced_accuracy = balanced_accuracy_score(y_true, y_pred)\n",
    "    tn, fp, fn, tp = confusion_matrix(y_true, y_pred).ravel()\n",
    "    \n",
    "    tpr = tp / (tp + fn) # True Positive Rate\n",
    "    tnr = tn / (tn + fp) # True Negative Rate\n",
    "    fpr = fp / (fp + tn) # False Positive Rate\n",
    "    fnr = fn / (fn + tp) # False Negative Rate\n",
    "    \n",
    "    metrics = {\n",
    "        \"accuracy\": accuracy,\n",
    "        \"balanced_accuracy\": balanced_accuracy,\n",
    "        \"tpr\": tpr,\n",
    "        \"tnr\": tnr,\n",
    "        \"fpr\": fpr,\n",
    "        \"fnr\": fnr\n",
    "    }\n",
    "    \n",
    "    print(f\"Metrics for {gender}:\")\n",
    "    print(f\"Accuracy: {accuracy:.2f}\")\n",
    "    print(f\"Balanced Accuracy: {balanced_accuracy:.2f}\")\n",
    "    print(f\"True Positive Rate (TPR): {tpr:.2f}\")\n",
    "    print(f\"True Negative Rate (TNR): {tnr:.2f}\")\n",
    "    print(f\"False Positive Rate (FPR): {fpr:.2f}\")\n",
    "    print(f\"False Negative Rate (FNR): {fnr:.2f}\")\n",
    "    \n",
    "    return metrics\n",
    "def metrics(y_pred, threshold):\n",
    "    test_df_depression = test_df.copy()\n",
    "    test_df_depression[\"predictions\"] = y_pred\n",
    "\n",
    "    participant_predictions_depression = test_df_depression.groupby(\"Participant_ID\")[\"predictions\"].mean()\n",
    "    participant_predictions_depression_binarized = (participant_predictions_depression >= threshold).astype(int)\n",
    "    participant_labels_depression = test_df_depression.groupby(\"Participant_ID\")[\"Depression\"].first()\n",
    "    male_participants = test_df_depression[test_df_depression[\"Gender\"] == 1][\"Participant_ID\"].unique()\n",
    "    female_participants = test_df_depression[test_df_depression[\"Gender\"] == 0][\"Participant_ID\"].unique()\n",
    "    \n",
    "    all_metrics_depression = calculate_accuracy(participant_labels_depression, participant_predictions_depression_binarized, \"All participants\")\n",
    "    print(\"\")\n",
    "    male_metrics = calculate_accuracy(participant_labels_depression.loc[male_participants], participant_predictions_depression_binarized.loc[male_participants], \"Male participants\")\n",
    "    print(\"\")\n",
    "    female_metrics = calculate_accuracy(participant_labels_depression.loc[female_participants], participant_predictions_depression_binarized.loc[female_participants], \"Female participants\")\n",
    "    \n",
    "    eo = (1 - abs(male_metrics[\"tpr\"] - female_metrics[\"tpr\"]))\n",
    "    print(f\"Equality of Opportunity (EO): {eo:.2f}\")\n",
    "    return all_metrics_depression, male_metrics, female_metrics, eo"
   ],
   "metadata": {
    "collapsed": false,
    "ExecuteTime": {
     "end_time": "2024-05-01T06:08:56.799322500Z",
     "start_time": "2024-05-01T06:08:56.682960800Z"
    }
   },
   "id": "5828542586495abf",
   "execution_count": 7
  },
  {
   "cell_type": "code",
   "outputs": [
    {
     "name": "stdout",
     "output_type": "stream",
     "text": [
      "              precision    recall  f1-score   support\n",
      "\n",
      "           0       0.80      0.92      0.85      2615\n",
      "           1       0.22      0.09      0.13       665\n",
      "\n",
      "    accuracy                           0.75      3280\n",
      "   macro avg       0.51      0.50      0.49      3280\n",
      "weighted avg       0.68      0.75      0.71      3280\n"
     ]
    }
   ],
   "source": [
    "# Depression Classification\n",
    "model = RandomForestClassifier(random_state=42, class_weight='balanced')\n",
    "model.fit(X_train, y_train_depression)\n",
    "\n",
    "y_pred = model.predict(X_test)\n",
    "print(classification_report(y_test_depression, y_pred))"
   ],
   "metadata": {
    "collapsed": false,
    "ExecuteTime": {
     "end_time": "2024-05-01T06:10:10.532403Z",
     "start_time": "2024-05-01T06:08:56.698252400Z"
    }
   },
   "id": "343ab59eb1cccae7",
   "execution_count": 8
  },
  {
   "cell_type": "code",
   "outputs": [
    {
     "name": "stdout",
     "output_type": "stream",
     "text": [
      "Metrics for All participants:\n",
      "Accuracy: 0.60\n",
      "Balanced Accuracy: 0.48\n",
      "True Positive Rate (TPR): 0.17\n",
      "True Negative Rate (TNR): 0.79\n",
      "False Positive Rate (FPR): 0.21\n",
      "False Negative Rate (FNR): 0.83\n",
      "\n",
      "Metrics for Male participants:\n",
      "Accuracy: 0.67\n",
      "Balanced Accuracy: 0.36\n",
      "True Positive Rate (TPR): 0.00\n",
      "True Negative Rate (TNR): 0.73\n",
      "False Positive Rate (FPR): 0.27\n",
      "False Negative Rate (FNR): 1.00\n",
      "\n",
      "Metrics for Female participants:\n",
      "Accuracy: 0.50\n",
      "Balanced Accuracy: 0.60\n",
      "True Positive Rate (TPR): 0.20\n",
      "True Negative Rate (TNR): 1.00\n",
      "False Positive Rate (FPR): 0.00\n",
      "False Negative Rate (FNR): 0.80\n",
      "Equality of Opportunity (EO): 0.80\n"
     ]
    }
   ],
   "source": [
    "all, male, female, eo = metrics(y_pred, 0.15)"
   ],
   "metadata": {
    "collapsed": false,
    "ExecuteTime": {
     "end_time": "2024-05-01T06:10:10.561178400Z",
     "start_time": "2024-05-01T06:10:10.517316100Z"
    }
   },
   "id": "e98a8239456bb8b1",
   "execution_count": 9
  },
  {
   "cell_type": "code",
   "outputs": [
    {
     "name": "stdout",
     "output_type": "stream",
     "text": [
      "Gender\n",
      "1    8177\n",
      "0    5449\n",
      "Name: count, dtype: int64\n",
      "Gender\n",
      "1    0.799795\n",
      "0    1.200205\n",
      "Name: count, dtype: float64\n"
     ]
    }
   ],
   "source": [
    "# Calculate the prevalence of depression by gender\n",
    "depression_by_gender = train_df.groupby('Gender')['Depression'].mean()\n",
    "\n",
    "# Determine the number of samples per gender\n",
    "samples_per_gender = train_df['Gender'].value_counts()\n",
    "\n",
    "# Calculate total number of samples\n",
    "total_samples = len(train_df)\n",
    "\n",
    "inverse_prevalence = 1 / depression_by_gender\n",
    "\n",
    "# Calculate the inverse representation (less represented genders get higher weight)\n",
    "inverse_representation = total_samples / samples_per_gender\n",
    "\n",
    "# Combine these factors to determine final weights\n",
    "# The product of inverse prevalence and inverse representation gives a weight that accounts for both factors\n",
    "final_weights = inverse_prevalence * inverse_representation\n",
    "\n",
    "# Normalize weights to ensure they are manageable and practical for model training\n",
    "normalized_weights = final_weights / final_weights.sum() * len(final_weights)\n",
    "print(samples_per_gender)\n",
    "# Apply the computed weights to each sample\n",
    "train_df['weights'] = train_df['Gender'].map(normalized_weights)\n",
    "\n",
    "reweights = train_df['weights']"
   ],
   "metadata": {
    "collapsed": false,
    "ExecuteTime": {
     "end_time": "2024-05-01T06:36:08.069439500Z",
     "start_time": "2024-05-01T06:36:08.036627500Z"
    }
   },
   "id": "67667717a2700275",
   "execution_count": 34
  },
  {
   "cell_type": "code",
   "outputs": [
    {
     "name": "stdout",
     "output_type": "stream",
     "text": [
      "              precision    recall  f1-score   support\n",
      "\n",
      "           0       0.79      0.89      0.84      2615\n",
      "           1       0.18      0.09      0.12       665\n",
      "\n",
      "    accuracy                           0.73      3280\n",
      "   macro avg       0.49      0.49      0.48      3280\n",
      "weighted avg       0.67      0.73      0.70      3280\n"
     ]
    }
   ],
   "source": [
    "# Train a Random Forest classifier using the weights\n",
    "model_reweighted = RandomForestClassifier(random_state=42, class_weight='balanced')\n",
    "model_reweighted.fit(X_train, y_train_depression, sample_weight=reweights)\n",
    "\n",
    "y_pred_reweighted = model_reweighted.predict(X_test)\n",
    "print(classification_report(y_test_depression, y_pred_reweighted))"
   ],
   "metadata": {
    "collapsed": false,
    "ExecuteTime": {
     "end_time": "2024-05-01T06:32:10.090637500Z",
     "start_time": "2024-05-01T06:31:28.790675200Z"
    }
   },
   "id": "77a2ef3809d4532e",
   "execution_count": 30
  },
  {
   "cell_type": "code",
   "outputs": [
    {
     "name": "stdout",
     "output_type": "stream",
     "text": [
      "Metrics for All participants:\n",
      "Accuracy: 0.55\n",
      "Balanced Accuracy: 0.44\n",
      "True Positive Rate (TPR): 0.17\n",
      "True Negative Rate (TNR): 0.71\n",
      "False Positive Rate (FPR): 0.29\n",
      "False Negative Rate (FNR): 0.83\n",
      "\n",
      "Metrics for Male participants:\n",
      "Accuracy: 0.67\n",
      "Balanced Accuracy: 0.36\n",
      "True Positive Rate (TPR): 0.00\n",
      "True Negative Rate (TNR): 0.73\n",
      "False Positive Rate (FPR): 0.27\n",
      "False Negative Rate (FNR): 1.00\n",
      "\n",
      "Metrics for Female participants:\n",
      "Accuracy: 0.38\n",
      "Balanced Accuracy: 0.43\n",
      "True Positive Rate (TPR): 0.20\n",
      "True Negative Rate (TNR): 0.67\n",
      "False Positive Rate (FPR): 0.33\n",
      "False Negative Rate (FNR): 0.80\n",
      "Equality of Opportunity (EO): 0.80\n"
     ]
    }
   ],
   "source": [
    "all_reweighted, male_reweighted, female_reweighted, eo_reweighted = metrics(y_pred_reweighted, 0.15)"
   ],
   "metadata": {
    "collapsed": false,
    "ExecuteTime": {
     "end_time": "2024-05-01T06:32:21.063916600Z",
     "start_time": "2024-05-01T06:32:21.037571500Z"
    }
   },
   "id": "a9836310155e7b00",
   "execution_count": 32
  },
  {
   "cell_type": "code",
   "outputs": [
    {
     "data": {
      "text/plain": "<Figure size 640x480 with 1 Axes>",
      "image/png": "[encoded data removed]"
     },
     "metadata": {},
     "output_type": "display_data"
    }
   ],
   "source": [
    "measures = ['Acc', 'BCA', 'Male Acc', 'Male BCA', 'Female Acc', 'Female BCA', 'EO']\n",
    "vals = {\n",
    "    'all features': [all['accuracy'], all['balanced_accuracy'], \n",
    "                     male['accuracy'], male['balanced_accuracy'], \n",
    "                     female['accuracy'], female['balanced_accuracy'], eo],\n",
    "    'reweighted features': [all_reweighted['accuracy'], all_reweighted['balanced_accuracy'], \n",
    "                     male_reweighted['accuracy'], male_reweighted['balanced_accuracy'], \n",
    "                     female_reweighted['accuracy'], female_reweighted['balanced_accuracy'], eo_reweighted]\n",
    "}\n",
    "x = np.arange(len(measures))  # the label locations\n",
    "width = 0.4  # the width of the bars\n",
    "multiplier = 0\n",
    "fig, ax = plt.subplots(layout='constrained')\n",
    "\n",
    "for attribute, measurement in vals.items():\n",
    "    offset = width * multiplier\n",
    "    rects = ax.bar(x + offset, measurement, width, label=attribute, color='mediumpurple' if attribute=='all features' else 'darkviolet')\n",
    "    ax.bar_label(rects,fmt='%.2f', padding=5)\n",
    "    multiplier += 1\n",
    "\n",
    "# Add some text for labels, title and custom x-axis tick labels, etc.\n",
    "ax.set_ylabel('Accuracy')\n",
    "ax.set_title('Depression Classification Metrics With and Without Feature Selection')\n",
    "ax.set_xticks(x + width, measures)\n",
    "ax.legend(loc='upper left', ncols=3)\n",
    "ax.set_ylim(0, 1)\n",
    "\n",
    "plt.show()"
   ],
   "metadata": {
    "collapsed": false,
    "ExecuteTime": {
     "end_time": "2024-05-01T06:32:35.461036700Z",
     "start_time": "2024-05-01T06:32:35.239899800Z"
    }
   },
   "id": "a17e05f651ec959a",
   "execution_count": 33
  },
  {
   "cell_type": "code",
   "outputs": [],
   "source": [],
   "metadata": {
    "collapsed": false,
    "ExecuteTime": {
     "end_time": "2024-05-01T06:11:00.669018700Z",
     "start_time": "2024-05-01T06:11:00.657726300Z"
    }
   },
   "id": "89837f15a860ff88",
   "execution_count": 13
  }
 ],
 "metadata": {
  "kernelspec": {
   "display_name": "Python 3",
   "language": "python",
   "name": "python3"
  },
  "language_info": {
   "codemirror_mode": {
    "name": "ipython",
    "version": 2
   },
   "file_extension": ".py",
   "mimetype": "text/x-python",
   "name": "python",
   "nbconvert_exporter": "python",
   "pygments_lexer": "ipython2",
   "version": "2.7.6"
  }
 },
 "nbformat": 4,
 "nbformat_minor": 5
}
